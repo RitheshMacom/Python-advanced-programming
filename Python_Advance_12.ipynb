{
 "cells": [
  {
   "cell_type": "markdown",
   "id": "26a6b388",
   "metadata": {},
   "source": [
    "### 1. Does assigning a value to a string's indexed character violate Python's string immutability?"
   ]
  },
  {
   "cell_type": "markdown",
   "id": "405c9899",
   "metadata": {},
   "source": [
    "    String is an immutable. So we can't do any updation or deletion with the string items through indexing."
   ]
  },
  {
   "cell_type": "code",
   "execution_count": 3,
   "id": "06b9cdfc",
   "metadata": {},
   "outputs": [
    {
     "ename": "TypeError",
     "evalue": "'str' object does not support item assignment",
     "output_type": "error",
     "traceback": [
      "\u001b[1;31m---------------------------------------------------------------------------\u001b[0m",
      "\u001b[1;31mTypeError\u001b[0m                                 Traceback (most recent call last)",
      "\u001b[1;32m<ipython-input-3-4ac962e42661>\u001b[0m in \u001b[0;36m<module>\u001b[1;34m\u001b[0m\n\u001b[0;32m      1\u001b[0m \u001b[0ms\u001b[0m\u001b[1;33m=\u001b[0m\u001b[1;34m'saiteja'\u001b[0m\u001b[1;33m\u001b[0m\u001b[1;33m\u001b[0m\u001b[0m\n\u001b[1;32m----> 2\u001b[1;33m \u001b[0ms\u001b[0m\u001b[1;33m[\u001b[0m\u001b[1;36m2\u001b[0m\u001b[1;33m]\u001b[0m\u001b[1;33m=\u001b[0m\u001b[1;34m't'\u001b[0m\u001b[1;33m\u001b[0m\u001b[1;33m\u001b[0m\u001b[0m\n\u001b[0m\u001b[0;32m      3\u001b[0m \u001b[0mprint\u001b[0m\u001b[1;33m(\u001b[0m\u001b[0ms\u001b[0m\u001b[1;33m)\u001b[0m\u001b[1;33m\u001b[0m\u001b[1;33m\u001b[0m\u001b[0m\n",
      "\u001b[1;31mTypeError\u001b[0m: 'str' object does not support item assignment"
     ]
    }
   ],
   "source": [
    "s='saiteja'\n",
    "s[2]='t'\n",
    "print(s)"
   ]
  },
  {
   "cell_type": "markdown",
   "id": "eb712ed7",
   "metadata": {},
   "source": [
    "### 2. Does string concatenation, using the += operator, violate Python’s immutability for strings? Why or why not?"
   ]
  },
  {
   "cell_type": "markdown",
   "id": "d1b7f81e",
   "metadata": {},
   "source": [
    "    No it doesnot violate it because string class is having an inbuilt method which is add () which takes strings and concatenate them"
   ]
  },
  {
   "cell_type": "code",
   "execution_count": 5,
   "id": "13ca4903",
   "metadata": {},
   "outputs": [
    {
     "data": {
      "text/plain": [
       "'saiteja Gummala'"
      ]
     },
     "execution_count": 5,
     "metadata": {},
     "output_type": "execute_result"
    }
   ],
   "source": [
    "s = 'saiteja'\n",
    "s = s + ' Gummala'\n",
    "s  #unsing += oprator"
   ]
  },
  {
   "cell_type": "markdown",
   "id": "8c022159",
   "metadata": {},
   "source": [
    "### 3. In Python, how many different ways are there to index a character?¶"
   ]
  },
  {
   "cell_type": "markdown",
   "id": "f0e674e4",
   "metadata": {},
   "source": [
    "    There are various ways in pytho to get some item at some index position.\n",
    "\n",
    "    1) By simply using the indexing and slicing method inside square bracket. Eg: item[1] or item[1:4] or item[3::2], etc\n",
    "\n",
    "    2) By using list index method. list.index(position). In this way one can get the item at some index position.\n",
    "\n",
    "    3) Using built in method like getitem () and index . We can use this inside the class"
   ]
  },
  {
   "cell_type": "markdown",
   "id": "e2c708c0",
   "metadata": {},
   "source": [
    "### 4. What is the relationship between indexing and slicing?"
   ]
  },
  {
   "cell_type": "markdown",
   "id": "bebbc534",
   "metadata": {},
   "source": [
    "    Indexing: It is a technique used to get the item of that particuar index position or in cas eof mutable object we can also update the value or add the new value by just giving the index position and assignment operator.\n",
    "\n",
    "    Slicing: It is use when we wan to extract some range of a item from some object."
   ]
  },
  {
   "cell_type": "code",
   "execution_count": 6,
   "id": "ca9b4226",
   "metadata": {},
   "outputs": [
    {
     "name": "stdout",
     "output_type": "stream",
     "text": [
      "Indexing: 66\n",
      "Slicing: [22, 33, 44, 55]\n"
     ]
    }
   ],
   "source": [
    "#Example\n",
    "\n",
    "l = [11,22,33,44,55,66,77,88]\n",
    "\n",
    "indexing=l[5] #getting that item at position 5\n",
    "print(f'Indexing: {indexing}')\n",
    "\n",
    "slicing=l[1:5]  #getting items from position 1 till 4\n",
    "print(f'Slicing: {slicing}')\n",
    "Indexing: 66\n",
    "Slicing: [22, 33, 44, 55]"
   ]
  },
  {
   "cell_type": "code",
   "execution_count": 7,
   "id": "c560c62e",
   "metadata": {},
   "outputs": [
    {
     "data": {
      "text/plain": [
       "int"
      ]
     },
     "execution_count": 7,
     "metadata": {},
     "output_type": "execute_result"
    }
   ],
   "source": [
    "type(indexing)"
   ]
  },
  {
   "cell_type": "code",
   "execution_count": 8,
   "id": "ecc7824f",
   "metadata": {},
   "outputs": [
    {
     "data": {
      "text/plain": [
       "str"
      ]
     },
     "execution_count": 8,
     "metadata": {},
     "output_type": "execute_result"
    }
   ],
   "source": [
    "type('.')"
   ]
  },
  {
   "cell_type": "markdown",
   "id": "b6b14d96",
   "metadata": {},
   "source": [
    "### 5. What is the exact data type of an indexed character? What is the data type of a substring produced from slicing?"
   ]
  },
  {
   "cell_type": "markdown",
   "id": "522d061a",
   "metadata": {},
   "source": [
    "    The indexed character’s data type will be the main character’s data type means the indexed element is getting from that iterable object will be the same data type.\n",
    "\n",
    "    E.g. if we get a value from a string object by indexed the indexed element will be string data type.\n",
    "\n",
    "    The data form of the slicing-generated substring is the same as it was the original string."
   ]
  },
  {
   "cell_type": "markdown",
   "id": "f94ead02",
   "metadata": {},
   "source": [
    "### 6. What is the relationship between string and character \"types\" in Python?"
   ]
  },
  {
   "cell_type": "markdown",
   "id": "443ceb1a",
   "metadata": {},
   "source": [
    "    Character refers to a single letter, number, space, punctuation mark or a symbol. Its data type is actually a CHAR which stores character data in a fixed-length field.\n",
    "\n",
    "    While String is a sequence of characters. A group of different different character compose a string. We enclosed it by ' ' Strings are arrays of bytes representing Unicode characters. Its type is string"
   ]
  },
  {
   "cell_type": "markdown",
   "id": "ac2327b8",
   "metadata": {},
   "source": [
    "### 7. Identify at least two operators and one method that allow you to combine one or more smaller strings to create a larger string.?"
   ]
  },
  {
   "cell_type": "markdown",
   "id": "0998a5a7",
   "metadata": {},
   "source": [
    "    In this case concatenation and a kind of multiple times of string comes into action. Concatenation needed + operator while multiple time needed '*' operator.\n",
    "\n",
    "    In case of methods there are a method which do the same:\n",
    "\n",
    "    add and mul"
   ]
  },
  {
   "cell_type": "code",
   "execution_count": 9,
   "id": "f62145bc",
   "metadata": {},
   "outputs": [
    {
     "name": "stdout",
     "output_type": "stream",
     "text": [
      "saiteja\n",
      "sai sai \n",
      "saiteja\n",
      "saiteja saiteja \n"
     ]
    }
   ],
   "source": [
    "print('sai'+'teja')\n",
    "print('sai '*2)\n",
    "print(str.__add__('sai','teja'))\n",
    "print(str.__mul__('saiteja ',2))"
   ]
  },
  {
   "cell_type": "markdown",
   "id": "e0670710",
   "metadata": {},
   "source": [
    "### 8. What is the benefit of first checking the target string with in or not in before using the index method to find a substring?"
   ]
  },
  {
   "cell_type": "markdown",
   "id": "73feeb9f",
   "metadata": {},
   "source": [
    "    When we first check the target string using in or not in containment operator then we could get to know whether that particular target string is present or not. \n",
    "    \n",
    "    If it is not present the it will give True as a result else will False. Its better to check before becaue if we are not testinng it first and the substring is not present in the string then it will result in an exception"
   ]
  },
  {
   "cell_type": "markdown",
   "id": "7be6f88f",
   "metadata": {},
   "source": [
    "### 9. Which operators and built-in string methods produce simple Boolean (true/false) results?"
   ]
  },
  {
   "cell_type": "markdown",
   "id": "8af8f01b",
   "metadata": {},
   "source": [
    "    There is many operators that can return the Boolean result or True/False. like some are below…\n",
    "\n",
    "    isalnum() Returns True if all characters in the string are alphanumeric\n",
    "    isalpha() Returns True if all characters in the string are in the alphabet\n",
    "    isdecimal() Returns True if all characters in the string are decimals\n",
    "    isdigit() Returns True if all characters in the string are digits\n",
    "    isidentifier() Returns True if the string is an identifier\n",
    "    islower() Returns True if all characters in the string are lower case\n",
    "    isnumeric() Returns True if all characters in the string are numeric\n",
    "    isprintable() Returns True if all characters in the string are printable\n",
    "    isspace() Returns True if all characters in the string are whitespaces\n",
    "    istitle() Returns True if the string follows the rules of a title\n",
    "    isupper() Returns True if all characters in the string are upper case"
   ]
  },
  {
   "cell_type": "code",
   "execution_count": null,
   "id": "af5fa94f",
   "metadata": {},
   "outputs": [],
   "source": []
  }
 ],
 "metadata": {
  "kernelspec": {
   "display_name": "Python 3",
   "language": "python",
   "name": "python3"
  },
  "language_info": {
   "codemirror_mode": {
    "name": "ipython",
    "version": 3
   },
   "file_extension": ".py",
   "mimetype": "text/x-python",
   "name": "python",
   "nbconvert_exporter": "python",
   "pygments_lexer": "ipython3",
   "version": "3.8.8"
  }
 },
 "nbformat": 4,
 "nbformat_minor": 5
}
