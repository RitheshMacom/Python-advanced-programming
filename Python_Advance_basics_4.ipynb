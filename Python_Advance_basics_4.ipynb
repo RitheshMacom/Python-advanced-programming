{
 "cells": [
  {
   "cell_type": "markdown",
   "id": "40bd52b1",
   "metadata": {},
   "source": [
    "### 1. Which two operator overloading methods can you use in your classes to support iteration?"
   ]
  },
  {
   "cell_type": "markdown",
   "id": "5a01bfd4",
   "metadata": {},
   "source": [
    "    There are two operator overloading method that can make a class support iteration. The __iter__ and __next__ are used to fort that, the __iter__ method return iterator object and is implicitly called at the start of loops. And the __next__ method return the next object or the iter object one by one."
   ]
  },
  {
   "cell_type": "markdown",
   "id": "121dce62",
   "metadata": {},
   "source": [
    "### 2. In what contexts do the two operator overloading methods manage printing?"
   ]
  },
  {
   "cell_type": "markdown",
   "id": "ff3ddb7d",
   "metadata": {},
   "source": [
    "    The operator overloading works based of python default behavior, like, if our two object is string then it will perform string addition just like in normal python, and if our two object is number then it will perform the math operation between two objects. So, overall the operator overloading will works based on operands and objects."
   ]
  },
  {
   "cell_type": "markdown",
   "id": "6d5d9c30",
   "metadata": {},
   "source": [
    "### 3. In a class, how do you intercept slice operations?"
   ]
  },
  {
   "cell_type": "markdown",
   "id": "c90fe26b",
   "metadata": {},
   "source": [
    "    In a class we use a dunder method ' getitem ' for slicing operation.\n",
    "\n",
    "    we use getitem (self,index) method with class object and this returns the value at that index position. It is use for list, tuple as well as dictionary also"
   ]
  },
  {
   "cell_type": "markdown",
   "id": "a9ecc11e",
   "metadata": {},
   "source": [
    "### 4. In a class, how do you capture in-place addition?"
   ]
  },
  {
   "cell_type": "markdown",
   "id": "33e4cdd3",
   "metadata": {},
   "source": [
    "    It is possible that we can add something in a function in additional manner. We just need to pass the value inside the function"
   ]
  },
  {
   "cell_type": "code",
   "execution_count": 2,
   "id": "a6d36c4e",
   "metadata": {},
   "outputs": [],
   "source": [
    "class person:\n",
    "    def __init__(self,name):\n",
    "        self.name=name\n",
    "        \n",
    "    def detail(self,age):\n",
    "        return f'name is {self.name} and age is {age}'\n",
    "object=person('saiteja gummala')"
   ]
  },
  {
   "cell_type": "markdown",
   "id": "250b28bc",
   "metadata": {},
   "source": [
    "### 5. When is it appropriate to use operator overloading?"
   ]
  },
  {
   "cell_type": "markdown",
   "id": "d12a4b84",
   "metadata": {},
   "source": [
    "    Operator overloading is meant to use when we define the datatype of any object before performing oprerator overloading, because it's works like normal python operator, if objects are string and operator are plus + then it will perform string concatenation, and if object are number then it will sum them up, so we have to predefine object datatype, and in that case we should use iperator overloading"
   ]
  },
  {
   "cell_type": "code",
   "execution_count": null,
   "id": "949f19b9",
   "metadata": {},
   "outputs": [],
   "source": []
  }
 ],
 "metadata": {
  "kernelspec": {
   "display_name": "Python 3",
   "language": "python",
   "name": "python3"
  },
  "language_info": {
   "codemirror_mode": {
    "name": "ipython",
    "version": 3
   },
   "file_extension": ".py",
   "mimetype": "text/x-python",
   "name": "python",
   "nbconvert_exporter": "python",
   "pygments_lexer": "ipython3",
   "version": "3.8.8"
  }
 },
 "nbformat": 4,
 "nbformat_minor": 5
}
