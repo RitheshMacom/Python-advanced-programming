{
 "cells": [
  {
   "cell_type": "markdown",
   "id": "47e68fb2",
   "metadata": {},
   "source": [
    "### 1. What is the concept of an abstract superclass ?"
   ]
  },
  {
   "cell_type": "markdown",
   "id": "033064e9",
   "metadata": {},
   "source": [
    "    A parent class is well known as super class from where child class inherit the data.\n",
    "\n",
    "    An abstract superclass a parent class from where the subclassess or child classes ae derived or we can say, subclasses can inherit the property of the parent class in the form of data"
   ]
  },
  {
   "cell_type": "markdown",
   "id": "f39101fc",
   "metadata": {},
   "source": [
    "### 2. What happens when a class statement's top-level contains a basic assignment statement?"
   ]
  },
  {
   "cell_type": "markdown",
   "id": "4b0f75cc",
   "metadata": {},
   "source": [
    "    That assignment statement will be applicable to all class instances that will be created. And that value will be constant for all newly created classes."
   ]
  },
  {
   "cell_type": "markdown",
   "id": "2dc2f4de",
   "metadata": {},
   "source": [
    "### 3. Why does a class need to manually call a superclass's init method?"
   ]
  },
  {
   "cell_type": "markdown",
   "id": "b715ab46",
   "metadata": {},
   "source": [
    "    __init__ is a built in function. It is well known as constructor. It takes the variables, which pass as an argument inside this function, and passes those data to the class."
   ]
  },
  {
   "cell_type": "markdown",
   "id": "239e0710",
   "metadata": {},
   "source": [
    "### 4. How can you augment, instead of completely replacing, an inherited method?"
   ]
  },
  {
   "cell_type": "markdown",
   "id": "b1376485",
   "metadata": {},
   "source": [
    "     A subclass can either completely override the implementation for an inherited method or the subclass can enhance the method by adding functionality to it."
   ]
  },
  {
   "cell_type": "markdown",
   "id": "91b94438",
   "metadata": {},
   "source": [
    "### 5. How is the local scope of a class different from that of a function?"
   ]
  },
  {
   "cell_type": "markdown",
   "id": "ed6d7801",
   "metadata": {},
   "source": [
    "    class local scope and function local scope is differ from each other.\n",
    "\n",
    "    In case of function, local scope means, whatever the variable is declare locally that will be only operate inside the function. It cannot be use outside the function. Th emost important thing is it can only be used within one function only under which it is declared.\n",
    "\n",
    "    In case of class, local scope means, whatever the variable is declared under the class or inside the class that will be used within a class only either by binding it with object of a class or with class itself. Unlike the function, local scope of a variable is not restricted with in one function only. IN class it can be used with any number of function which are defined inside the class."
   ]
  },
  {
   "cell_type": "code",
   "execution_count": null,
   "id": "daeb9f7a",
   "metadata": {},
   "outputs": [],
   "source": []
  }
 ],
 "metadata": {
  "kernelspec": {
   "display_name": "Python 3",
   "language": "python",
   "name": "python3"
  },
  "language_info": {
   "codemirror_mode": {
    "name": "ipython",
    "version": 3
   },
   "file_extension": ".py",
   "mimetype": "text/x-python",
   "name": "python",
   "nbconvert_exporter": "python",
   "pygments_lexer": "ipython3",
   "version": "3.8.8"
  }
 },
 "nbformat": 4,
 "nbformat_minor": 5
}
