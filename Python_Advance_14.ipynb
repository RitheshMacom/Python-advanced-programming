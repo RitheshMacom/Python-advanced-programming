{
 "cells": [
  {
   "cell_type": "markdown",
   "id": "87c9aded",
   "metadata": {},
   "source": [
    "### Q1. Is an assignment operator like += only for show? Is it possible that it would lead to faster results at the runtime?"
   ]
  },
  {
   "cell_type": "markdown",
   "id": "8a83e3ca",
   "metadata": {},
   "source": [
    "    += adds a number/string to a variable, changing the variable itself in the process. Meaning, ( += ) adds the value of the right operand to a variable and assigns the result to the variable.\n",
    "\n",
    "    Not really it result in faster performance because it take lesser time to operate and we dont require a new"
   ]
  },
  {
   "cell_type": "markdown",
   "id": "28f47904",
   "metadata": {},
   "source": [
    "### Q2. What is the smallest number of statements you'd have to write in most programming languages to replace the Python expression a, b = a + b, a?"
   ]
  },
  {
   "cell_type": "markdown",
   "id": "e489fd2a",
   "metadata": {},
   "source": [
    "    In C programming it takes minimum 3 number of statement.\n",
    "\n",
    "    c=a+b\n",
    "\n",
    "    a=c\n",
    "\n",
    "    b=a"
   ]
  },
  {
   "cell_type": "markdown",
   "id": "dadd7ed2",
   "metadata": {},
   "source": [
    "### Q3. In Python, what is the most effective way to set a list of 100 integers to 0?"
   ]
  },
  {
   "cell_type": "code",
   "execution_count": 5,
   "id": "dc10dc7c",
   "metadata": {},
   "outputs": [],
   "source": [
    "my_list = [0] * 100\n",
    "\n",
    "my_list = [0] * 100  \n",
    "#my_list"
   ]
  },
  {
   "cell_type": "markdown",
   "id": "bd0a34d8",
   "metadata": {},
   "source": [
    "### Q4. What is the most effective way to initialize a list of 99 integers that repeats the sequence 1, 2, 3? S If necessary, show step-by-step instructions on how to accomplish this."
   ]
  },
  {
   "cell_type": "code",
   "execution_count": 6,
   "id": "478769bb",
   "metadata": {},
   "outputs": [
    {
     "name": "stdout",
     "output_type": "stream",
     "text": [
      "[1, 2, 3, 1, 2, 3, 1, 2, 3, 1, 2, 3, 1, 2, 3, 1, 2, 3, 1, 2, 3, 1, 2, 3, 1, 2, 3, 1, 2, 3, 1, 2, 3, 1, 2, 3, 1, 2, 3, 1, 2, 3, 1, 2, 3, 1, 2, 3, 1, 2, 3, 1, 2, 3, 1, 2, 3, 1, 2, 3, 1, 2, 3, 1, 2, 3, 1, 2, 3, 1, 2, 3, 1, 2, 3, 1, 2, 3, 1, 2, 3, 1, 2, 3, 1, 2, 3, 1, 2, 3, 1, 2, 3, 1, 2, 3, 1, 2, 3] \n",
      "\n",
      "Number of integers ares: 99\n"
     ]
    }
   ],
   "source": [
    "l=[i for i in range(1,4)]\n",
    "l2=[]\n",
    "for i in range(33):\n",
    "    \n",
    "    l2.extend(l)\n",
    "    \n",
    "print(l2,'\\n')\n",
    "print(f'Number of integers ares: {len(l2)}')"
   ]
  },
  {
   "cell_type": "markdown",
   "id": "0009abe6",
   "metadata": {},
   "source": [
    "### Q5. If you’re running a Python program from within IDLE, describe how to most efficiently print a multidimensional list."
   ]
  },
  {
   "cell_type": "code",
   "execution_count": 7,
   "id": "3675e26a",
   "metadata": {},
   "outputs": [
    {
     "name": "stdout",
     "output_type": "stream",
     "text": [
      "[[2, 4, 6, 8, 10], [3, 6, 9, 12, 15], [4, 8, 12, 16, 20]]\n"
     ]
    }
   ],
   "source": [
    "#It is very simple procedure. We first need a variable and assign it a multidimensional list.\n",
    "\n",
    "a = [[2, 4, 6, 8, 10], [3, 6, 9, 12, 15], [4, 8, 12, 16, 20]]\n",
    "print(a)"
   ]
  },
  {
   "cell_type": "markdown",
   "id": "dbbf69c1",
   "metadata": {},
   "source": [
    "### Q6. Is it possible to use list comprehension with a string? If so, how can you go about doing it?"
   ]
  },
  {
   "cell_type": "code",
   "execution_count": 9,
   "id": "dd31446e",
   "metadata": {},
   "outputs": [
    {
     "data": {
      "text/plain": [
       "['I', 'n', 'e', 'u', 'r', 'o', 'n']"
      ]
     },
     "execution_count": 9,
     "metadata": {},
     "output_type": "execute_result"
    }
   ],
   "source": [
    "#Yes it is possible to use list comprehension with a string.\n",
    "my_string = 'Ineuron'\n",
    "my_list = [i for i in my_string]\n",
    "my_list  #getting element from the string."
   ]
  },
  {
   "cell_type": "markdown",
   "id": "24d22e35",
   "metadata": {},
   "source": [
    "### Q7. How can you get help on a user-written Python program from the command line? From within IDLE?"
   ]
  },
  {
   "cell_type": "code",
   "execution_count": 13,
   "id": "5d177831",
   "metadata": {},
   "outputs": [
    {
     "name": "stdout",
     "output_type": "stream",
     "text": [
      "Help on built-in function print in module builtins:\n",
      "\n",
      "print(...)\n",
      "    print(value, ..., sep=' ', end='\\n', file=sys.stdout, flush=False)\n",
      "    \n",
      "    Prints the values to a stream, or to sys.stdout by default.\n",
      "    Optional keyword arguments:\n",
      "    file:  a file-like object (stream); defaults to the current sys.stdout.\n",
      "    sep:   string inserted between values, default a space.\n",
      "    end:   string appended after the last value, default a newline.\n",
      "    flush: whether to forcibly flush the stream.\n",
      "\n"
     ]
    }
   ],
   "source": [
    "#We will use help method in that case. Example is as followed\n",
    "\n",
    "help(print)"
   ]
  },
  {
   "cell_type": "markdown",
   "id": "10d08959",
   "metadata": {},
   "source": [
    "### Q8. Functions are said to be “first-class objects” in Python but not in most other languages, such as C++ or Java. What is something you can do with a Python function (callable object) that you cannot do in C or C++?"
   ]
  },
  {
   "cell_type": "markdown",
   "id": "f4b0ff8d",
   "metadata": {},
   "source": [
    "    In python there is a beautiful things which we can do with the function. It is called first class function because of the following reasons:\n",
    "\n",
    "    1) It can be use as an argument\n",
    "\n",
    "    2) It can be use in return by some other function\n",
    "\n",
    "    3) It can be act as variable and we can assign some value to it"
   ]
  },
  {
   "cell_type": "markdown",
   "id": "c5ced7bd",
   "metadata": {},
   "source": [
    "### Q9. What’s the difference between a wrapper, a wrapped function, and a decorator?"
   ]
  },
  {
   "cell_type": "markdown",
   "id": "139d8acb",
   "metadata": {},
   "source": [
    "    Wrappers: It also refers to decorators. It allows programmers to modify the behavior of function or class.\n",
    "\n",
    "    Wrapper Function: Wrapper functions can be used as an interface to adapt to the existing codes, so as to save from modifying the codes back and forth. It helps in allowing some codes to run repeadtedly.\n",
    "\n",
    "    Decorators: It allows to wrap another function in order to extend the behavior of the wrapped function, without permanently modifying it."
   ]
  },
  {
   "cell_type": "markdown",
   "id": "0ba17018",
   "metadata": {},
   "source": [
    "### Q10. When a function is a generator function, what does it return, if anything?"
   ]
  },
  {
   "cell_type": "markdown",
   "id": "df03f9d6",
   "metadata": {},
   "source": [
    "    Generator function is a kind of a iterable function which knows that what i have generated the last time and what it will give me the next time. Using return or print statement we can simply get every element which we have iterated upon immediately at once. But what if we want that we get the elemenet one by one as per our requrement. Here generator comes.\n",
    "\n",
    "    We can also say that Generator is something which help in creating iterator sort of thing. We use yield keyword in place of return when we are dealing with generators. With the help of generator only it is not necessary to create an itertor from an iterables. We can make any thing an itertaor object.\n",
    "\n",
    "    It do not stores all the items at once. Whatever the value we need, it catches and throw it out. Means whenever we need a next value to print we just call a next function over its object and it will give that value."
   ]
  },
  {
   "cell_type": "markdown",
   "id": "0fe4ca8f",
   "metadata": {},
   "source": [
    "### Q11. What is the one improvement that must be made to a function in order for it to become a generator function in the Python language?"
   ]
  },
  {
   "cell_type": "code",
   "execution_count": 14,
   "id": "bf97e3ba",
   "metadata": {},
   "outputs": [
    {
     "data": {
      "text/plain": [
       "<generator object gen at 0x00000296F84885F0>"
      ]
     },
     "execution_count": 14,
     "metadata": {},
     "output_type": "execute_result"
    }
   ],
   "source": [
    "#Just replace return with yield\n",
    "\n",
    "def gen():\n",
    "    for i in range(10):\n",
    "        yield i\n",
    "a=iter(gen())\n",
    "a"
   ]
  },
  {
   "cell_type": "code",
   "execution_count": 15,
   "id": "e2f10ee5",
   "metadata": {},
   "outputs": [
    {
     "data": {
      "text/plain": [
       "0"
      ]
     },
     "execution_count": 15,
     "metadata": {},
     "output_type": "execute_result"
    }
   ],
   "source": [
    "next(a)"
   ]
  },
  {
   "cell_type": "code",
   "execution_count": 16,
   "id": "88b3e3b3",
   "metadata": {},
   "outputs": [
    {
     "data": {
      "text/plain": [
       "1"
      ]
     },
     "execution_count": 16,
     "metadata": {},
     "output_type": "execute_result"
    }
   ],
   "source": [
    "next(a)"
   ]
  },
  {
   "cell_type": "code",
   "execution_count": 17,
   "id": "96a99e6f",
   "metadata": {},
   "outputs": [
    {
     "name": "stdout",
     "output_type": "stream",
     "text": [
      "2\n",
      "3\n",
      "4\n",
      "5\n",
      "6\n",
      "7\n",
      "8\n",
      "9\n"
     ]
    }
   ],
   "source": [
    "for i in a:\n",
    "    print(i)"
   ]
  },
  {
   "cell_type": "markdown",
   "id": "90f5473e",
   "metadata": {},
   "source": [
    "### Q12. Identify at least one benefit of generators."
   ]
  },
  {
   "cell_type": "markdown",
   "id": "012949ca",
   "metadata": {},
   "source": [
    "    By using generators it can be memory efficient that it does not create any value at the time of the execution instead of doing that it yield value and we can get those value as we get value from any iterable object."
   ]
  },
  {
   "cell_type": "code",
   "execution_count": null,
   "id": "e1d98dad",
   "metadata": {},
   "outputs": [],
   "source": [
    "      "
   ]
  }
 ],
 "metadata": {
  "kernelspec": {
   "display_name": "Python 3",
   "language": "python",
   "name": "python3"
  },
  "language_info": {
   "codemirror_mode": {
    "name": "ipython",
    "version": 3
   },
   "file_extension": ".py",
   "mimetype": "text/x-python",
   "name": "python",
   "nbconvert_exporter": "python",
   "pygments_lexer": "ipython3",
   "version": "3.8.8"
  }
 },
 "nbformat": 4,
 "nbformat_minor": 5
}
