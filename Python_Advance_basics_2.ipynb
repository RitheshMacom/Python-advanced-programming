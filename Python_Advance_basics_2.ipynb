{
 "cells": [
  {
   "cell_type": "markdown",
   "id": "54f4ee61",
   "metadata": {},
   "source": [
    "## Python Advance basics 2"
   ]
  },
  {
   "cell_type": "markdown",
   "id": "f22b7856",
   "metadata": {},
   "source": [
    "### 1.What is the relationship between classes and modules?"
   ]
  },
  {
   "cell_type": "markdown",
   "id": "da4fb641",
   "metadata": {},
   "source": [
    "### Class\n",
    "    A class is like an object construction or a 'blueprint' for creating objects,allowing new instances of that type to be made. \n",
    "    Classes provide a means of bundling data and functionality together.\n",
    "    Each class instance can have attributes attached to it for maintaining its state\n",
    "    Class instances can also have methods for modifying its state\n",
    "    Class be duplicated as many times as you want by creating objects(instances)\n",
    "\n",
    "### Modules\n",
    "    A module is a file containing python definitions and statements.\n",
    "    The file name is the module name with the suffix .py appended within a module's name (as a string) is available as the value of the global variable __name__\n",
    "    Modules can be imported\n",
    "    Module methods can be included or extended into instance methods\n",
    "    A module can contain executable statements as well as function definitions."
   ]
  },
  {
   "cell_type": "markdown",
   "id": "c3bbf08e",
   "metadata": {},
   "source": [
    "### 2.How do you make instances and classes?"
   ]
  },
  {
   "cell_type": "code",
   "execution_count": 9,
   "id": "94f9f4c5",
   "metadata": {},
   "outputs": [
    {
     "name": "stdout",
     "output_type": "stream",
     "text": [
      "['Circle', 'In', 'Out', 'Square', '_', '__', '___', '__builtin__', '__builtins__', '__doc__', '__loader__', '__name__', '__package__', '__spec__', '_dh', '_i', '_i1', '_i2', '_i3', '_i4', '_i5', '_i6', '_i7', '_i8', '_i9', '_ih', '_ii', '_iii', '_oh', 'exit', 'get_ipython', 'obj', 'quit']\n"
     ]
    }
   ],
   "source": [
    "#The class is created at first and after that the class instance is created, \n",
    "#Note here the class can be one for one problem but there can be many isntance of one class\n",
    "\n",
    "class Circle:  #Defining the class Circle\n",
    "    pass\n",
    "\n",
    "obj=Circle() # Instance of a class Circle\n",
    "print(dir())"
   ]
  },
  {
   "cell_type": "markdown",
   "id": "538fbbb3",
   "metadata": {},
   "source": [
    "### 3. Where and how are class attributes created?"
   ]
  },
  {
   "cell_type": "code",
   "execution_count": 2,
   "id": "9182af12",
   "metadata": {},
   "outputs": [],
   "source": [
    "#The class attributes are created at the very first special function of our class, or we can refer to it as constructor function, \n",
    "#it is defined by __init__ function. Here our class attributes are created\n",
    "\n",
    "class MY_class():  # defining our class\n",
    "    \n",
    "    def __init__(self, atr1, atr2):  # defing our class attributes, here we have two attributes atr1, atr2\n",
    "        self.atr1 = atr1\n",
    "        self.atr2 = atr2 # connecting our attribute to the class by self pointer"
   ]
  },
  {
   "cell_type": "markdown",
   "id": "06faa5e6",
   "metadata": {},
   "source": [
    "### 4.Where and how are instance attributes created?"
   ]
  },
  {
   "cell_type": "markdown",
   "id": "66f7b448",
   "metadata": {},
   "source": [
    "    The instance attribute is created by the time of creating of a class instance, \n",
    "    these attributes are defining by the user of the class, \n",
    "    but the user is bind to enter the limited number of instance of our class have.\n",
    "    Also, we can create some private instances."
   ]
  },
  {
   "cell_type": "code",
   "execution_count": 3,
   "id": "c35c6933",
   "metadata": {},
   "outputs": [],
   "source": [
    "#creatig instance attribute of our class\n",
    "\n",
    "ins1 = MY_class('ins1_atr1', 'ins1_atr2')  # here i define two instance attribute.\n",
    "ins2 = MY_class('ins2_atr1', 'ins2_atr2') "
   ]
  },
  {
   "cell_type": "markdown",
   "id": "08a6e622",
   "metadata": {},
   "source": [
    "### 5. What does \"self\" mean in a Python class?"
   ]
  },
  {
   "cell_type": "markdown",
   "id": "7bb96d90",
   "metadata": {},
   "source": [
    "    We can consider the self as a pointer of the current object. \n",
    "    which is connecting user arguments to class attributes. \n",
    "    It binds the argument with given attributes, \n",
    "    using the ‘self’ keyword we can access the attributes and methods of the class here.\n",
    "\n",
    "    We use self every time when create a class method and for the very first time, creating of __init__ constructor\n",
    "    we use self to connect the attributes."
   ]
  },
  {
   "cell_type": "markdown",
   "id": "463bda17",
   "metadata": {},
   "source": [
    "### 6. How does a Python class handle operator overloading?"
   ]
  },
  {
   "cell_type": "markdown",
   "id": "d5a1d57c",
   "metadata": {},
   "source": [
    "    The operator overloading is the use of one operator or one operating method to use multiple times on multiple types of object. \n",
    "    For example in python the ‘+’ or plus operator can be used to the addition of two or integer or this same operator can be used to add two string, \n",
    "    that means one operator can be used add two different types of object, this concept is called operator overloading. \n",
    "    In oop, we can create this type of method. The following example showing operator overloading code."
   ]
  },
  {
   "cell_type": "code",
   "execution_count": 4,
   "id": "24baefb0",
   "metadata": {},
   "outputs": [],
   "source": [
    "# creating a class\n",
    "class opr_overloading():\n",
    "    def __init__(self, atr1):  # creating constructor\n",
    "        self.atr1 = atr1\n",
    "        \n",
    "    def __add__(self, other): # creating addition opearator \n",
    "        return self.atr1 + other.atr1 # here other is refering the other class pointer\n",
    "                                      # this other can be the same class with different instance or different class.\n",
    "        \n",
    "        "
   ]
  },
  {
   "cell_type": "code",
   "execution_count": 5,
   "id": "735002cc",
   "metadata": {},
   "outputs": [
    {
     "data": {
      "text/plain": [
       "5"
      ]
     },
     "execution_count": 5,
     "metadata": {},
     "output_type": "execute_result"
    }
   ],
   "source": [
    "# creating two instance of same class\n",
    "\n",
    "ins1 = opr_overloading(2)\n",
    "ins2 = opr_overloading(3)\n",
    "\n",
    "ins1 + ins2 #adding two class instance and it return addition of two number"
   ]
  },
  {
   "cell_type": "code",
   "execution_count": 6,
   "id": "b4334a1d",
   "metadata": {},
   "outputs": [
    {
     "data": {
      "text/plain": [
       "'Artificial intelligence and Machine Learning'"
      ]
     },
     "execution_count": 6,
     "metadata": {},
     "output_type": "execute_result"
    }
   ],
   "source": [
    "x1 = opr_overloading('Artificial intelligence and ') # creating two instance\n",
    "x2 = opr_overloading('Machine Learning')\n",
    "\n",
    "x1 + x2 # here we can observe that the plus operator is bheaving like string concatenation of two string"
   ]
  },
  {
   "cell_type": "markdown",
   "id": "f292027b",
   "metadata": {},
   "source": [
    "### 7. When might you want to support operator overloading in your classes?"
   ]
  },
  {
   "cell_type": "markdown",
   "id": "6857d6b5",
   "metadata": {},
   "source": [
    "    By creating our own operator class we have to control over how the operator will behave. Operator overloading is used to perform specific operations on the given operands. The operation that any particular operator will perform on any predefined data is already defined in python. Each operator can be used in a different way for different types of the operand. The which operator we are using at the time of execution is doesn’t matter, we have this control in operator overloading."
   ]
  },
  {
   "cell_type": "markdown",
   "id": "a779347f",
   "metadata": {},
   "source": [
    "### 8.What is the most popular form of operator overloading?"
   ]
  },
  {
   "cell_type": "markdown",
   "id": "d02b6758",
   "metadata": {},
   "source": [
    "    Generally addition operator is use mostly for operator overloading by using magic method add"
   ]
  },
  {
   "cell_type": "markdown",
   "id": "9e4268fe",
   "metadata": {},
   "source": [
    "### 9. What are two key concepts required to understand Python OOP code?"
   ]
  },
  {
   "cell_type": "markdown",
   "id": "bbe72e78",
   "metadata": {},
   "source": [
    "    Two key concept required to understand python OOP code are: inheritance and polymorphism\n",
    "\n",
    "    Inheritence: It means inheriting the properties and behaviour of the parent class to the child class.. We do not then required to initialse the data again and again once we inherit the data from the parent class.\n",
    "\n",
    "    Polymorphism: It means many form. Under the class a function can take many form with the same name. It only differe from others by its parameter or the way it is being operate. Function overloading and overriding comes under this concept."
   ]
  },
  {
   "cell_type": "code",
   "execution_count": null,
   "id": "217319db",
   "metadata": {},
   "outputs": [],
   "source": []
  }
 ],
 "metadata": {
  "kernelspec": {
   "display_name": "Python 3",
   "language": "python",
   "name": "python3"
  },
  "language_info": {
   "codemirror_mode": {
    "name": "ipython",
    "version": 3
   },
   "file_extension": ".py",
   "mimetype": "text/x-python",
   "name": "python",
   "nbconvert_exporter": "python",
   "pygments_lexer": "ipython3",
   "version": "3.8.8"
  }
 },
 "nbformat": 4,
 "nbformat_minor": 5
}
