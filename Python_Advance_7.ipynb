{
 "cells": [
  {
   "cell_type": "markdown",
   "id": "ce1a4e00",
   "metadata": {},
   "source": [
    "### 1. What is the purpose of the try statement?"
   ]
  },
  {
   "cell_type": "markdown",
   "id": "87ffc5fc",
   "metadata": {},
   "source": [
    "    The main purpose of the try statement is to run our main script in safe mode. Menas if the main script contains some error of some mistake that we or the programmer or the user of that script is responsible for then it will through error as our desired way that we define by following the try clause except\n",
    "\n",
    "    Although the main concept is try is basically telling the console to try to run the code if it executes successfully then exit and if not the process as we define."
   ]
  },
  {
   "cell_type": "markdown",
   "id": "4a627316",
   "metadata": {},
   "source": [
    "### 2. What are the two most popular try statement variations?"
   ]
  },
  {
   "cell_type": "markdown",
   "id": "eca365fe",
   "metadata": {},
   "source": [
    "    1) try with except block: When try fails except will execute. When try passess, except do not execute\n",
    "\n",
    "    2) try with except and else: When try will execute then only else block will exceute. If try fails then only except block will exceute not else block"
   ]
  },
  {
   "cell_type": "markdown",
   "id": "8dd28d5a",
   "metadata": {},
   "source": [
    "### 3. What is the purpose of raise statement?"
   ]
  },
  {
   "cell_type": "markdown",
   "id": "5cdf259e",
   "metadata": {},
   "source": [
    "    with the raise statement we can trigger our own defined error at any point of the time and we can raise an error in any were in our script as long as it is reasonable.\n",
    "\n",
    "    So if we want to trigger an error at a specific moment of time we can use raise statement for that purpose."
   ]
  },
  {
   "cell_type": "markdown",
   "id": "5384a98d",
   "metadata": {},
   "source": [
    "### 4. What does the assert statement do, and what other statement is it like?"
   ]
  },
  {
   "cell_type": "markdown",
   "id": "73f92776",
   "metadata": {},
   "source": [
    "     statement is for raising assertion error. When any script is not True under the assert keyword, it will raise the assertion error. Else it will simply print.\n",
    "\n",
    "    Another statement which work the same is raise keyword"
   ]
  },
  {
   "cell_type": "markdown",
   "id": "b5f399af",
   "metadata": {},
   "source": [
    "### 5. What is the purpose of the with/as argument, and what other statement is it like?"
   ]
  },
  {
   "cell_type": "markdown",
   "id": "9654efc8",
   "metadata": {},
   "source": [
    "    with / as arguments are used in python to make the code more readable and cleaner.\n",
    "\n",
    "    The with statement is handle the exception the with statement ensure the acquisition and release of resources by itself automatically. The with statement avoiding bugs and leaks and ensure that resources are properly released at the time of code executions.\n",
    "\n",
    "    The as is just to use an instance name or variable name for the resource we are executing."
   ]
  },
  {
   "cell_type": "code",
   "execution_count": null,
   "id": "bfeb24b4",
   "metadata": {},
   "outputs": [],
   "source": []
  }
 ],
 "metadata": {
  "kernelspec": {
   "display_name": "Python 3",
   "language": "python",
   "name": "python3"
  },
  "language_info": {
   "codemirror_mode": {
    "name": "ipython",
    "version": 3
   },
   "file_extension": ".py",
   "mimetype": "text/x-python",
   "name": "python",
   "nbconvert_exporter": "python",
   "pygments_lexer": "ipython3",
   "version": "3.8.8"
  }
 },
 "nbformat": 4,
 "nbformat_minor": 5
}
