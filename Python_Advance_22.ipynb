{
 "cells": [
  {
   "cell_type": "markdown",
   "id": "35375947",
   "metadata": {},
   "source": [
    "### Q1. What are the benefits of the built-in array package, if any?"
   ]
  },
  {
   "cell_type": "markdown",
   "id": "02001209",
   "metadata": {},
   "source": [
    "    -Arrays represent multiple data items of the same type using a single name.\n",
    "    -In arrays, the elements can be accessed randomly by using the index number.\n",
    "    -Arrays allocate memory in contiguous memory locations for all its elements. Hence there is no chance of extra memory being allocated in case of arrays. This avoids memory overflow or shortage of memory in arrays."
   ]
  },
  {
   "cell_type": "markdown",
   "id": "de6e1fc1",
   "metadata": {},
   "source": [
    "### Q2. What are some of the array package's limitations"
   ]
  },
  {
   "cell_type": "markdown",
   "id": "f43cece5",
   "metadata": {},
   "source": [
    "    The number of elements to be stored in an array should be known in advance.\n",
    "\n",
    "    An array is a static structure (which means the array is of fixed size). Once declared the size of the array cannot be modified. The memory which is allocated to it cannot be increased or decreased.\n",
    "\n",
    "    Insertion and deletion are quite difficult in an array as the elements are stored in consecutive memory locations and the shifting operation is costly.\n",
    "\n",
    "    Allocating more memory than the requirement leads to wastage of memory space and less allocation of memory also leads to a problem."
   ]
  },
  {
   "cell_type": "markdown",
   "id": "c1612b71",
   "metadata": {},
   "source": [
    "### Q3. Describe the main differences between the array and numpy packages."
   ]
  },
  {
   "cell_type": "markdown",
   "id": "72a50c11",
   "metadata": {},
   "source": [
    "    The array package doesn't provide any help with numerical calculation with the items insdie it in number form while NumPy give you a wide variety of numerical operations\n",
    "\n",
    "    An array is a single dimensional entity which hold the numerical data, while numpy can have more than 1 dimension.\n",
    "\n",
    "    In case of array, item can be accessed by its index position and it is easy task while in numpy item is accessed by its column and row index, which makes it slightly time taking. Same goes with appending operation.\n",
    "\n",
    "    In case of array we do not form a tabular structure, while in numpy it forms a tabular structure"
   ]
  },
  {
   "cell_type": "markdown",
   "id": "743edbf9",
   "metadata": {},
   "source": [
    "### Q4. Explain the distinctions between the empty, ones, and zeros functions."
   ]
  },
  {
   "cell_type": "markdown",
   "id": "0bbbdb9a",
   "metadata": {},
   "source": [
    "    empty function: An empty function is a function that does not contain any statement within its body. If you try to write a function definition without any statement in python ,it will return an error. To avoid this, we use pass statement. pass is a special statement in Python that does nothing. It only works as a dummy statement\n",
    "\n",
    "    ones: This function returns a new array of given shape and data type, where the element’s value is 1.\n",
    "\n",
    "    zeros: This function returns a new array of given shape and data type, where the element’s value is 0"
   ]
  },
  {
   "cell_type": "markdown",
   "id": "3faa3d0a",
   "metadata": {},
   "source": [
    "### Q5. In the fromfunction function, which is used to construct new arrays, what is the role of the callable argument?"
   ]
  },
  {
   "cell_type": "markdown",
   "id": "51c6854f",
   "metadata": {},
   "source": [
    "    Its function is to execute the function over each coordinate and the resulting array. The function is called with N parameters, where N is the rank of shape. Each parameter represents the coordinates of the array varying along a specific axis."
   ]
  },
  {
   "cell_type": "markdown",
   "id": "ea5776b7",
   "metadata": {},
   "source": [
    "### Q6. What happens when a numpy array is combined with a single-value operand (a scalar, such as an int or a floating-point value) through addition, as in the expression A + n?"
   ]
  },
  {
   "cell_type": "markdown",
   "id": "1874cfcb",
   "metadata": {},
   "source": [
    "    If any scaler value such as integer is added to the numpy array then all the elements inside the array will add that value in it.\n",
    "\n",
    "    Example"
   ]
  },
  {
   "cell_type": "code",
   "execution_count": 3,
   "id": "42b8c93a",
   "metadata": {},
   "outputs": [
    {
     "name": "stdout",
     "output_type": "stream",
     "text": [
      "[[0 1 2]\n",
      " [3 4 5]\n",
      " [6 7 8]]\n",
      "\n",
      "[[1 2 3]\n",
      " [4 5 6]\n",
      " [7 8 9]]\n"
     ]
    }
   ],
   "source": [
    "import numpy as np\n",
    "\n",
    "a=np.arange(9).reshape(3,3)\n",
    "print(a)\n",
    "print()\n",
    "print(a+1)"
   ]
  },
  {
   "cell_type": "markdown",
   "id": "8e25441a",
   "metadata": {},
   "source": [
    "### Q7. Can array-to-scalar operations use combined operation-assign operators (such as += or *=)? What is the outcome?"
   ]
  },
  {
   "cell_type": "markdown",
   "id": "86920b7f",
   "metadata": {},
   "source": [
    "    It will do the operation as per operators. Like if we use + operand it will update the current array by adding and when we use '*', it will update by multiplying."
   ]
  },
  {
   "cell_type": "code",
   "execution_count": 5,
   "id": "6668798f",
   "metadata": {},
   "outputs": [
    {
     "name": "stdout",
     "output_type": "stream",
     "text": [
      "[[0 1 2]\n",
      " [3 4 5]\n",
      " [6 7 8]]\n"
     ]
    }
   ],
   "source": [
    "print(a)"
   ]
  },
  {
   "cell_type": "code",
   "execution_count": 6,
   "id": "f51dd7f7",
   "metadata": {},
   "outputs": [],
   "source": [
    "a+=1"
   ]
  },
  {
   "cell_type": "code",
   "execution_count": 7,
   "id": "677bd3cb",
   "metadata": {},
   "outputs": [
    {
     "name": "stdout",
     "output_type": "stream",
     "text": [
      "[[1 2 3]\n",
      " [4 5 6]\n",
      " [7 8 9]]\n"
     ]
    }
   ],
   "source": [
    "print(a)"
   ]
  },
  {
   "cell_type": "code",
   "execution_count": 8,
   "id": "ec61abcf",
   "metadata": {},
   "outputs": [],
   "source": [
    "a*=2"
   ]
  },
  {
   "cell_type": "code",
   "execution_count": 9,
   "id": "384bf104",
   "metadata": {},
   "outputs": [
    {
     "name": "stdout",
     "output_type": "stream",
     "text": [
      "[[ 2  4  6]\n",
      " [ 8 10 12]\n",
      " [14 16 18]]\n"
     ]
    }
   ],
   "source": [
    "print(a)"
   ]
  },
  {
   "cell_type": "markdown",
   "id": "a5185cf6",
   "metadata": {},
   "source": [
    "### Q8. Does a numpy array contain fixed-length strings? What happens if you allocate a longer string to one of these arrays?"
   ]
  },
  {
   "cell_type": "markdown",
   "id": "4dc7f919",
   "metadata": {},
   "source": [
    "    Yes it is possible that we can include a string of fixed length in numpy array. The dtype of any numpy array containing string values is the maximum length of any string present in the array. Once set, it will only be able to store new string having length not more than the maximum length at the time of the creation. If we try to reassign some another string value having length greater than the maximum length of the existing elements, it simply discards all the values beyond the maximum length accept upto those values which are under the limit"
   ]
  },
  {
   "cell_type": "code",
   "execution_count": 10,
   "id": "af0c91ce",
   "metadata": {},
   "outputs": [
    {
     "data": {
      "text/plain": [
       "array(['Krishna', 'Balaram', 'Ram', 'Lakhsman'], dtype='<U8')"
      ]
     },
     "execution_count": 10,
     "metadata": {},
     "output_type": "execute_result"
    }
   ],
   "source": [
    "# Creating a array cotain sring\n",
    "srr = np.array([\"Krishna\", \"Balaram\", \"Ram\", \"Lakhsman\"])\n",
    "\n",
    "# showing the string array\n",
    "srr"
   ]
  },
  {
   "cell_type": "code",
   "execution_count": 11,
   "id": "7d183c79",
   "metadata": {},
   "outputs": [
    {
     "data": {
      "text/plain": [
       "array(['Mahabhar', 'Balaram', 'Ram', 'Lakhsman'], dtype='<U8')"
      ]
     },
     "execution_count": 11,
     "metadata": {},
     "output_type": "execute_result"
    }
   ],
   "source": [
    "# Now max cahr length is 8 \n",
    "# Adding another name longer than 8 charecter\n",
    "srr[0] = \"Mahabharata\" # Replacing Krishna.\n",
    "\n",
    "srr"
   ]
  },
  {
   "cell_type": "markdown",
   "id": "4c363e26",
   "metadata": {},
   "source": [
    "    From above replace we can see the string take only 8 cahr from replaceing word"
   ]
  },
  {
   "cell_type": "markdown",
   "id": "25e68068",
   "metadata": {},
   "source": [
    "### Q9. What happens when you combine two numpy arrays using an operation like addition (+) or multiplication (*)? What are the conditions for combining two numpy arrays?"
   ]
  },
  {
   "cell_type": "markdown",
   "id": "98f7b12d",
   "metadata": {},
   "source": [
    "    It works on standerd math concept like matrix addition and matrix multiplication."
   ]
  },
  {
   "cell_type": "code",
   "execution_count": 12,
   "id": "983dff94",
   "metadata": {},
   "outputs": [
    {
     "data": {
      "text/plain": [
       "(array([[0, 1],\n",
       "        [2, 3],\n",
       "        [4, 5],\n",
       "        [6, 7],\n",
       "        [8, 9]]),\n",
       " array([[0, 1],\n",
       "        [2, 3],\n",
       "        [4, 5],\n",
       "        [6, 7],\n",
       "        [8, 9]]))"
      ]
     },
     "execution_count": 12,
     "metadata": {},
     "output_type": "execute_result"
    }
   ],
   "source": [
    "# Creating two array\n",
    "\n",
    "arr1 = np.arange(10).reshape(5,2)\n",
    "arr2 = np.arange(10).reshape(5,2)\n",
    "\n",
    "# Showing array\n",
    "arr1, arr2"
   ]
  },
  {
   "cell_type": "code",
   "execution_count": 13,
   "id": "cb5a1fc9",
   "metadata": {},
   "outputs": [
    {
     "data": {
      "text/plain": [
       "array([[ 0,  2],\n",
       "       [ 4,  6],\n",
       "       [ 8, 10],\n",
       "       [12, 14],\n",
       "       [16, 18]])"
      ]
     },
     "execution_count": 13,
     "metadata": {},
     "output_type": "execute_result"
    }
   ],
   "source": [
    "# Addition of array\n",
    "arr1 + arr2"
   ]
  },
  {
   "cell_type": "code",
   "execution_count": 14,
   "id": "06cc84d6",
   "metadata": {},
   "outputs": [
    {
     "data": {
      "text/plain": [
       "array([[ 0,  1],\n",
       "       [ 4,  9],\n",
       "       [16, 25],\n",
       "       [36, 49],\n",
       "       [64, 81]])"
      ]
     },
     "execution_count": 14,
     "metadata": {},
     "output_type": "execute_result"
    }
   ],
   "source": [
    "# Multiplication of array\n",
    "arr1 * arr2"
   ]
  },
  {
   "cell_type": "markdown",
   "id": "d9366218",
   "metadata": {},
   "source": [
    "### Q10. What is the best way to use a Boolean array to mask another array?"
   ]
  },
  {
   "cell_type": "code",
   "execution_count": 15,
   "id": "58a7d9e2",
   "metadata": {},
   "outputs": [
    {
     "name": "stdout",
     "output_type": "stream",
     "text": [
      "[True, True, masked, masked]\n"
     ]
    }
   ],
   "source": [
    "# Creating bool array\n",
    "boo = np.array([True,True,False,True]) \n",
    "\n",
    "# Creating array of integer values\n",
    "arr = np.array([1,2,3,4])\n",
    "\n",
    "# Creating mask \n",
    "mask = np.ma.masked_where(arr>2, boo)  \n",
    "\n",
    "# Showing the mask\n",
    "print(list(mask))"
   ]
  },
  {
   "cell_type": "markdown",
   "id": "14b4bdfd",
   "metadata": {},
   "source": [
    "### Q11. What are three different ways to get the standard deviation of a wide collection of data using both standard Python and its packages? Sort the three of them by how quickly they execute."
   ]
  },
  {
   "cell_type": "markdown",
   "id": "3245fbba",
   "metadata": {},
   "source": [
    "    Standard deviation can be calculated in amny ways. If wee see the formula of SD, it says\n",
    "\n",
    "    std= Square Root of [ Summation of [square of (x-mean)/number of observation] ]\n",
    "\n",
    "    So this can be achive by:"
   ]
  },
  {
   "cell_type": "code",
   "execution_count": 17,
   "id": "a176f31e",
   "metadata": {},
   "outputs": [
    {
     "name": "stdout",
     "output_type": "stream",
     "text": [
      "[0 1 2 3 4 5 6 7 8 9]\n"
     ]
    },
    {
     "data": {
      "text/plain": [
       "2.8722813232690143"
      ]
     },
     "execution_count": 17,
     "metadata": {},
     "output_type": "execute_result"
    }
   ],
   "source": [
    "# In term of fast calcualtion numpy library will perform fast\n",
    "# creating array  \n",
    "arr = np.arange(10)\n",
    "\n",
    "print(arr)\n",
    "# calcualting standerd deviuation\n",
    "st = np.std(arr)\n",
    "\n",
    "# Showing standerd deviation\n",
    "st"
   ]
  },
  {
   "cell_type": "code",
   "execution_count": 18,
   "id": "fab40bc8",
   "metadata": {},
   "outputs": [
    {
     "data": {
      "text/plain": [
       "3.0"
      ]
     },
     "execution_count": 18,
     "metadata": {},
     "output_type": "execute_result"
    }
   ],
   "source": [
    "# We can also calculate std by using python statistics function\n",
    "from statistics import stdev\n",
    "\n",
    "# Calculating standerd deviation\n",
    "st = stdev(arr)\n",
    "\n",
    "# Showing result.\n",
    "st"
   ]
  },
  {
   "cell_type": "markdown",
   "id": "31094b58",
   "metadata": {},
   "source": [
    "### Q12. What is the dimensionality of a Boolean mask-generated array?"
   ]
  },
  {
   "cell_type": "markdown",
   "id": "7319d10a",
   "metadata": {},
   "source": [
    "    It will be same as that of the given array.\n",
    "\n",
    "    Example we have two aray of same dimensions say 1, then the array produced by given array will be of same dimension"
   ]
  },
  {
   "cell_type": "code",
   "execution_count": 19,
   "id": "1ba62f51",
   "metadata": {},
   "outputs": [
    {
     "name": "stdout",
     "output_type": "stream",
     "text": [
      "[True, True, masked, masked]\n",
      "\n",
      "Dimension is 1\n"
     ]
    }
   ],
   "source": [
    "y = np.array([True,True,False,True])          \n",
    "x = np.array([1,2,3,4])         \n",
    "m = np.ma.masked_where(x>2,y)  \n",
    "print(list(m))\n",
    "print()\n",
    "print('Dimension is',m.ndim)"
   ]
  },
  {
   "cell_type": "code",
   "execution_count": null,
   "id": "d2ea5e0c",
   "metadata": {},
   "outputs": [],
   "source": []
  }
 ],
 "metadata": {
  "kernelspec": {
   "display_name": "Python 3",
   "language": "python",
   "name": "python3"
  },
  "language_info": {
   "codemirror_mode": {
    "name": "ipython",
    "version": 3
   },
   "file_extension": ".py",
   "mimetype": "text/x-python",
   "name": "python",
   "nbconvert_exporter": "python",
   "pygments_lexer": "ipython3",
   "version": "3.8.8"
  }
 },
 "nbformat": 4,
 "nbformat_minor": 5
}
