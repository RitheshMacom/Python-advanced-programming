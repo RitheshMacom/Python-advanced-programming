{
 "cells": [
  {
   "cell_type": "markdown",
   "id": "7eb74c6b",
   "metadata": {},
   "source": [
    "### 1. What is the difference between getattr and getattribute?"
   ]
  },
  {
   "cell_type": "markdown",
   "id": "8f24457b",
   "metadata": {},
   "source": [
    "    __getattr__method is called when the calling attribute is present in our class and we are sure about it. If the calling attribute is not present in our class then it will through an AttributeError\n",
    "\n",
    "    And in Another side, if our function has __getattribute__ then the condition is written inside this method will be put an effect on every other attribute no matter the method is present or not."
   ]
  },
  {
   "cell_type": "markdown",
   "id": "ef9514e2",
   "metadata": {},
   "source": [
    "### 2. What is the difference between properties and descriptors?"
   ]
  },
  {
   "cell_type": "markdown",
   "id": "d17e6afd",
   "metadata": {},
   "source": [
    "     The properties are much simpler to use and understand. Simply says it can convert the method as an attribute. Like we have a method in our class and if we add @property as a decorator of that function then we can use that function or method as an attribute means we no longer need to use () like calling a function.\n",
    "\n",
    "    Descriptors give us a special ability to create objects that have special behavior when they’re accessed as attributes of other objects."
   ]
  },
  {
   "cell_type": "markdown",
   "id": "968a86c1",
   "metadata": {},
   "source": [
    "### 3. What are the key differences in functionality between getattr and getattribute, as well as properties and descriptors?"
   ]
  },
  {
   "cell_type": "markdown",
   "id": "08e25ccc",
   "metadata": {},
   "source": [
    "    Descriptors are a low-level mechanism that lets you hook into an object's attributes being accessed. Properties are a high-level application of this; that is, properties are implemented using descriptors.\n",
    "\n",
    "    The property function gives us a handy way to implement a simple descriptor without defining a separate class. Rather than create a complete class definition, we can write getter and setter method functions, and then bind these functions to an attribute name."
   ]
  },
  {
   "cell_type": "code",
   "execution_count": null,
   "id": "70663c00",
   "metadata": {},
   "outputs": [],
   "source": []
  }
 ],
 "metadata": {
  "kernelspec": {
   "display_name": "Python 3",
   "language": "python",
   "name": "python3"
  },
  "language_info": {
   "codemirror_mode": {
    "name": "ipython",
    "version": 3
   },
   "file_extension": ".py",
   "mimetype": "text/x-python",
   "name": "python",
   "nbconvert_exporter": "python",
   "pygments_lexer": "ipython3",
   "version": "3.8.8"
  }
 },
 "nbformat": 4,
 "nbformat_minor": 5
}
