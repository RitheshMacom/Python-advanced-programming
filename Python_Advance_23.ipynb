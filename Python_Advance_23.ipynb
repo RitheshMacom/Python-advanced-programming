{
 "cells": [
  {
   "cell_type": "markdown",
   "id": "df08124c",
   "metadata": {},
   "source": [
    "### Q1. If you have any, what are your choices for increasing the comparison between different figures on the same graph?"
   ]
  },
  {
   "cell_type": "markdown",
   "id": "0a9fe308",
   "metadata": {},
   "source": [
    "     In order to increase the comparison of a graph we can use hue methode to put other columns measure in one figure."
   ]
  },
  {
   "cell_type": "markdown",
   "id": "b7017552",
   "metadata": {},
   "source": [
    "### Q3. What is a histogram, exactly? Name a numpy method for creating such a graph."
   ]
  },
  {
   "cell_type": "markdown",
   "id": "2e620bdb",
   "metadata": {},
   "source": [
    "    Histogram is a type of a plot which hold the total number of counts or the percentile value in y-axis w.r.t. corresponding x-variables. When we say the number of counts it means that for a particular range in x-axis what will be the number of counts of the data points. When we talk about percentile it shows the probability occurrence of the x-variable or what percentage of data are below that particular percetile value w.r.t. particular x-variable range.\n",
    "\n",
    "    Numpy has a built-in numpy. histogram() function"
   ]
  },
  {
   "cell_type": "markdown",
   "id": "a59667d0",
   "metadata": {},
   "source": [
    "### Q4. If necessary, how do you change the aspect ratios between the X and Y axes?"
   ]
  },
  {
   "cell_type": "markdown",
   "id": "a6c9d066",
   "metadata": {},
   "source": [
    "    We can use plt.figure(figsize=(10,8)) function inside the matplot.pyplot library which we scale down or up the graph."
   ]
  },
  {
   "cell_type": "markdown",
   "id": "c6738520",
   "metadata": {},
   "source": [
    "### Q5. Compare and contrast the three types of array multiplication between two numpy arrays: dot product, outer product, and regular multiplication of two numpy arrays"
   ]
  },
  {
   "cell_type": "code",
   "execution_count": 1,
   "id": "11ea0054",
   "metadata": {},
   "outputs": [
    {
     "data": {
      "text/plain": [
       "(array([[1, 2, 3],\n",
       "        [4, 5, 6],\n",
       "        [6, 7, 8]]),\n",
       " array([[10, 20, 30],\n",
       "        [40, 50, 60],\n",
       "        [60, 70, 80]]))"
      ]
     },
     "execution_count": 1,
     "metadata": {},
     "output_type": "execute_result"
    }
   ],
   "source": [
    "# Creating two array\n",
    "import numpy as np\n",
    "\n",
    "arr1 = np.array([[1,2,3],[4,5,6],[6,7,8]]) # creating an array\n",
    "arr2 = np.array([[10,20,30],[40,50,60],[60,70,80]]) # randomly choosen sencond array\n",
    "\n",
    "# shwing two array\n",
    "arr1, arr2"
   ]
  },
  {
   "cell_type": "code",
   "execution_count": 2,
   "id": "74d5026d",
   "metadata": {},
   "outputs": [
    {
     "data": {
      "text/plain": [
       "array([[ 270,  330,  390],\n",
       "       [ 600,  750,  900],\n",
       "       [ 820, 1030, 1240]])"
      ]
     },
     "execution_count": 2,
     "metadata": {},
     "output_type": "execute_result"
    }
   ],
   "source": [
    "# Dot product\n",
    "np.dot(arr1, arr2)"
   ]
  },
  {
   "cell_type": "code",
   "execution_count": 3,
   "id": "a4b2ac18",
   "metadata": {},
   "outputs": [
    {
     "data": {
      "text/plain": [
       "array([[ 10,  20,  30,  40,  50,  60,  60,  70,  80],\n",
       "       [ 20,  40,  60,  80, 100, 120, 120, 140, 160],\n",
       "       [ 30,  60,  90, 120, 150, 180, 180, 210, 240],\n",
       "       [ 40,  80, 120, 160, 200, 240, 240, 280, 320],\n",
       "       [ 50, 100, 150, 200, 250, 300, 300, 350, 400],\n",
       "       [ 60, 120, 180, 240, 300, 360, 360, 420, 480],\n",
       "       [ 60, 120, 180, 240, 300, 360, 360, 420, 480],\n",
       "       [ 70, 140, 210, 280, 350, 420, 420, 490, 560],\n",
       "       [ 80, 160, 240, 320, 400, 480, 480, 560, 640]])"
      ]
     },
     "execution_count": 3,
     "metadata": {},
     "output_type": "execute_result"
    }
   ],
   "source": [
    "# outer product\n",
    "np.outer(arr1, arr2)"
   ]
  },
  {
   "cell_type": "code",
   "execution_count": 4,
   "id": "5cddd5d1",
   "metadata": {},
   "outputs": [
    {
     "data": {
      "text/plain": [
       "array([[ 10,  40,  90],\n",
       "       [160, 250, 360],\n",
       "       [360, 490, 640]])"
      ]
     },
     "execution_count": 4,
     "metadata": {},
     "output_type": "execute_result"
    }
   ],
   "source": [
    "# Regular multiplication\n",
    "arr1 * arr2"
   ]
  },
  {
   "cell_type": "markdown",
   "id": "2d2a5382",
   "metadata": {},
   "source": [
    "### Q6. Before you buy a home, which numpy function will you use to measure your monthly mortgage payment?"
   ]
  },
  {
   "cell_type": "markdown",
   "id": "aad629d6",
   "metadata": {},
   "source": [
    "    np.pmt(rate, nper, pv) function we will be using in order to calculate monthly mortgage payment before you purchase a house\n",
    "\n",
    "    rate = The periodic interest rate\n",
    "\n",
    "    nper = The number of payment periods\n",
    "\n",
    "    pv = The total value of the mortgage loan"
   ]
  },
  {
   "cell_type": "markdown",
   "id": "4c2f85bd",
   "metadata": {},
   "source": [
    "### Q7. Can string data be stored in numpy arrays? If so, list at least one restriction that applies to this data."
   ]
  },
  {
   "cell_type": "markdown",
   "id": "5a5ac67b",
   "metadata": {},
   "source": [
    "    Yes an array can store the string.\n",
    "\n",
    "    The limitation which imposed on the string data is, whenever we store the data of string dtype then it should should keep in mind that the string which is having the maximum length is the limit.\n",
    "\n",
    "    The dtype value is the maximum length of a string in such data. Meaning suppose if any new string we wanted to add, then we can add only that string which have the length either equal to that dtype value or less than tha. If any string which are adding and if its length is more than the dtype value then it will only accpet to maximum length and rest of the characters will not be included."
   ]
  },
  {
   "cell_type": "code",
   "execution_count": null,
   "id": "a3cbc4bc",
   "metadata": {},
   "outputs": [],
   "source": []
  }
 ],
 "metadata": {
  "kernelspec": {
   "display_name": "Python 3",
   "language": "python",
   "name": "python3"
  },
  "language_info": {
   "codemirror_mode": {
    "name": "ipython",
    "version": 3
   },
   "file_extension": ".py",
   "mimetype": "text/x-python",
   "name": "python",
   "nbconvert_exporter": "python",
   "pygments_lexer": "ipython3",
   "version": "3.8.8"
  }
 },
 "nbformat": 4,
 "nbformat_minor": 5
}
