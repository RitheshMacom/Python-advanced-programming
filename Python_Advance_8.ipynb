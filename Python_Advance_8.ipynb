{
 "cells": [
  {
   "cell_type": "markdown",
   "id": "768b7b80",
   "metadata": {},
   "source": [
    "### 1. What are the two latest user-defined exception constraints in Python 3.X?"
   ]
  },
  {
   "cell_type": "markdown",
   "id": "986e9872",
   "metadata": {},
   "source": [
    "    1) raise statement: With the help of raise keyword we can create a user defined exceptions\n",
    "\n",
    "    2) assert statement: With the help of the assert keyword we can create an assertion error."
   ]
  },
  {
   "cell_type": "markdown",
   "id": "f83d1ce1",
   "metadata": {},
   "source": [
    "### 2. How are class-based exceptions that have been raised matched to handlers?"
   ]
  },
  {
   "cell_type": "markdown",
   "id": "fcfe1e57",
   "metadata": {},
   "source": [
    "    We uses try and except bock for printing out the exceptions we have raised by using raise statement. Example is:"
   ]
  },
  {
   "cell_type": "code",
   "execution_count": 1,
   "id": "a867bd58",
   "metadata": {},
   "outputs": [
    {
     "name": "stdout",
     "output_type": "stream",
     "text": [
      "This is not under the condition\n"
     ]
    }
   ],
   "source": [
    "a=1\n",
    "\n",
    "try:\n",
    "    if a<5:\n",
    "        raise Exception('This is not under the condition')\n",
    "    print('Value if a is: ',a)\n",
    "    \n",
    "except Exception as e:\n",
    "    print(e)"
   ]
  },
  {
   "cell_type": "markdown",
   "id": "3ec81ab9",
   "metadata": {},
   "source": [
    "### 3. Describe two methods for attaching context information to exception artefacts.?"
   ]
  },
  {
   "cell_type": "markdown",
   "id": "0b385656",
   "metadata": {},
   "source": [
    "     The python logging module helps us to create very flexible way to track our code exceptions, in logging methode there are many way to get information from the exceptions, like time(%(asctime)s), when the error occured, function name(%(funcName)s), like from which function the exception came, and time, and many more. by using that library we can attach as many context as we want on our exception artifacts.\n",
    "     \n",
    "     These all are called log record attribute and help devoloper to add context."
   ]
  },
  {
   "cell_type": "markdown",
   "id": "20bcb367",
   "metadata": {},
   "source": [
    "### 4. Describe two methods for specifying the text of an exception object's error message.?"
   ]
  },
  {
   "cell_type": "markdown",
   "id": "2fe0644c",
   "metadata": {},
   "source": [
    "    We can use the exception for getting the text message, and also if we know that what kind of exception we will get the that exception message we can get.\n",
    "\n",
    "    the following example will show the methode"
   ]
  },
  {
   "cell_type": "code",
   "execution_count": 2,
   "id": "06984517",
   "metadata": {},
   "outputs": [
    {
     "name": "stdout",
     "output_type": "stream",
     "text": [
      "Error is: division by zero\n"
     ]
    }
   ],
   "source": [
    "a=1\n",
    "b=0\n",
    "try:\n",
    "    div=a/b\n",
    "except Exception as e:\n",
    "    print(f'Error is: {e}')\n",
    "else:\n",
    "    print(div)"
   ]
  },
  {
   "cell_type": "code",
   "execution_count": 3,
   "id": "3f1a4538",
   "metadata": {},
   "outputs": [
    {
     "name": "stdout",
     "output_type": "stream",
     "text": [
      "Error is: division by zero\n"
     ]
    }
   ],
   "source": [
    "# way 2\n",
    "\n",
    "a=1\n",
    "b=0\n",
    "try:\n",
    "    div=a/b\n",
    "except ZeroDivisionError as e:\n",
    "    print(f'Error is: {e}')"
   ]
  },
  {
   "cell_type": "markdown",
   "id": "2e2e74cc",
   "metadata": {},
   "source": [
    "### 5. Why do you no longer use string-based exception?"
   ]
  },
  {
   "cell_type": "markdown",
   "id": "260b5456",
   "metadata": {},
   "source": [
    "    String based exceptions are the messages which we give by ourself so that when error occurs then instead of original exception error message, we get that message which we have written in the string form. But this has some drawback. Suppose an error occured and we wanted to know that which kind or type of error it is, there it failed because we have given the customised error message.\n",
    "\n",
    "    So even if wanted to change the mistake occured associated with that error, will be difficult to rectify."
   ]
  },
  {
   "cell_type": "code",
   "execution_count": null,
   "id": "b55765ee",
   "metadata": {},
   "outputs": [],
   "source": []
  }
 ],
 "metadata": {
  "kernelspec": {
   "display_name": "Python 3",
   "language": "python",
   "name": "python3"
  },
  "language_info": {
   "codemirror_mode": {
    "name": "ipython",
    "version": 3
   },
   "file_extension": ".py",
   "mimetype": "text/x-python",
   "name": "python",
   "nbconvert_exporter": "python",
   "pygments_lexer": "ipython3",
   "version": "3.8.8"
  }
 },
 "nbformat": 4,
 "nbformat_minor": 5
}
