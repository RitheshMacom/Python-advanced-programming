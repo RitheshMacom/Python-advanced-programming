{
 "cells": [
  {
   "cell_type": "markdown",
   "id": "30baa860",
   "metadata": {},
   "source": [
    "### 1. What is the benfit of regular expressions ?"
   ]
  },
  {
   "cell_type": "markdown",
   "id": "7ee859b6",
   "metadata": {},
   "source": [
    "    A Regular Expression is used for identifying a search pattern in a text string. It also helps in finding out the correctness of the data and even operations such as finding, replacing and formatting the data is possible using Regular Expressions"
   ]
  },
  {
   "cell_type": "markdown",
   "id": "a7487888",
   "metadata": {},
   "source": [
    "### 2. Describe the difference between the effects of \"(ab)c+\" and \"a(bc)+.\" Which of these, if any, is the unqualified pattern \"abc+\"?"
   ]
  },
  {
   "cell_type": "markdown",
   "id": "32d09c7a",
   "metadata": {},
   "source": [
    "     This plus operator + will find when there is atleast one exact match on the group. this find from one to many\n",
    "\n",
    "    the smallst number is 1\n",
    "\n",
    "    and the largest number is infinite.\n",
    "\n",
    "    here is an example"
   ]
  },
  {
   "cell_type": "code",
   "execution_count": 2,
   "id": "1a62cf15",
   "metadata": {},
   "outputs": [
    {
     "name": "stdout",
     "output_type": "stream",
     "text": [
      "<re.Match object; span=(0, 3), match='abc'>\n",
      "<re.Match object; span=(0, 3), match='abc'>\n",
      "<re.Match object; span=(0, 7), match='abababc'>\n",
      "<re.Match object; span=(4, 7), match='abc'>\n",
      "None\n",
      "None\n"
     ]
    }
   ],
   "source": [
    "import re\n",
    "pat1 = re.compile(r'(ab)+c')  # creating two different pattern\n",
    "pat2 = re.compile(r'a(bc)+')\n",
    "\n",
    "print(pat1.search('abcdef'))\n",
    "print(pat2.search('abcdef'))\n",
    "\n",
    "\n",
    "print(pat1.search('abababcde'))\n",
    "print(pat2.search('abababcde'))\n",
    "\n",
    "\n",
    "print(pat1.search('ab'))\n",
    "print(pat2.search('ab'))"
   ]
  },
  {
   "cell_type": "markdown",
   "id": "f259c1c3",
   "metadata": {},
   "source": [
    "    Note from above the pattern (ab)+c match when there is atleast one set of ab in the string and pattern a(bc)+ match when there is bc in present for atleast one."
   ]
  },
  {
   "cell_type": "markdown",
   "id": "d89c89e7",
   "metadata": {},
   "source": [
    "### 3. How much do you need to use the following sentence while using regular expressions?\n",
    "   #### import re"
   ]
  },
  {
   "cell_type": "markdown",
   "id": "196efcee",
   "metadata": {},
   "source": [
    "    This is the regex module that is come with pytohn inbuilt. we have to import it before starting work on regex.\n",
    "\n",
    "    Every time i need this when we have to work on regex"
   ]
  },
  {
   "cell_type": "markdown",
   "id": "f055e380",
   "metadata": {},
   "source": [
    "### 4. Which characters have special significance in square brackets when expressing a range, and under what circumstances?"
   ]
  },
  {
   "cell_type": "markdown",
   "id": "a11aae8d",
   "metadata": {},
   "source": [
    "    The hyphen - is the character whis help use to define range inside of square brackets.\n",
    "    \n",
    "    This can works with number or digits like [0-6] this will search for any number between 0 to 6 and this also the same with alphabet like [a-z] this will search any letter character."
   ]
  },
  {
   "cell_type": "markdown",
   "id": "48b9fae1",
   "metadata": {},
   "source": [
    "### 5. How does compiling a regular-expression Object benfit you ?"
   ]
  },
  {
   "cell_type": "markdown",
   "id": "2354b62d",
   "metadata": {},
   "source": [
    "    Before starting the search process it is worth to compile the regular expression. although python can perform search with out compiling, but it is best practice to compile the regular expression.\n",
    "    \n",
    "    Compiline gives us long term using flexibility,also by compiling a regex object we ca specify a number of option modyfying the way that python will treat that regular expression."
   ]
  },
  {
   "cell_type": "markdown",
   "id": "911ad273",
   "metadata": {},
   "source": [
    "### 6. What are some examples of how to use the match object returned by re.match and re.search?"
   ]
  },
  {
   "cell_type": "markdown",
   "id": "87471740",
   "metadata": {},
   "source": [
    "    The re.match method searches only from the beginning of the string and return match object if found. But if a match of substring is found somewhere in the middle of the string, it returns None.\n",
    "\n",
    "    In case of re.search searches for the whole string even if the string contains multi-lines and tries to find a match of the substring in all the lines of string."
   ]
  },
  {
   "cell_type": "markdown",
   "id": "62d06df2",
   "metadata": {},
   "source": [
    "### 7. What is the difference between using a vertical bar (|) as an alteration and using square brackets as a character set?"
   ]
  },
  {
   "cell_type": "code",
   "execution_count": 3,
   "id": "23d632c1",
   "metadata": {},
   "outputs": [],
   "source": [
    " #This vertical line | called pipe character and it is used for denote or in search pattern.\n",
    "#here is an example\n",
    "pat = re.compile(r'superman|batman')\n",
    "\n",
    "text1 = 'we need hero it doesn\\'t matter it is superman or batman'\n",
    "text2 = 'we need hero it doesn\\'t matter it is batman or superman'"
   ]
  },
  {
   "cell_type": "code",
   "execution_count": 4,
   "id": "804e83a0",
   "metadata": {},
   "outputs": [
    {
     "name": "stdout",
     "output_type": "stream",
     "text": [
      "<re.Match object; span=(37, 45), match='superman'>\n",
      "<re.Match object; span=(37, 43), match='batman'>\n"
     ]
    }
   ],
   "source": [
    "print(pat.search(text1)) # will retun superman\n",
    "print(pat.search(text2)) # will retun batman"
   ]
  },
  {
   "cell_type": "markdown",
   "id": "a464c74d",
   "metadata": {},
   "source": [
    "    Observe here the or or | only return the first matching from the two match object it has to be search, it will not see the second if it found the macthing string.\n",
    "\n",
    "    like above in text1 it first found superman and return it it does't go for batman\n",
    "\n",
    "    similar in the text2 it first found batman and return it"
   ]
  },
  {
   "cell_type": "markdown",
   "id": "f7c0a76c",
   "metadata": {},
   "source": [
    "### 8. In regular-expression search patterns, why is it necessary to use the raw-string indicator (r)? In replacement strings?"
   ]
  },
  {
   "cell_type": "markdown",
   "id": "25044366",
   "metadata": {},
   "source": [
    "    Putting the r'' before the search pattern it is helpfull in the time of written regular expression. but it is not necessary. it solve the problem of python escape character. in python we use \\ backslash to denote the excape character. and in regular expression we often used \\ to write regex object.\n",
    "\n",
    "    so like every time to escape the escape charatcer we need extara \\ charecter. like this to match digist we have to write '\\d', for over come this problem we put r to make it raw string which doesn't requied escape character."
   ]
  },
  {
   "cell_type": "code",
   "execution_count": null,
   "id": "24bdb46c",
   "metadata": {},
   "outputs": [],
   "source": []
  }
 ],
 "metadata": {
  "kernelspec": {
   "display_name": "Python 3",
   "language": "python",
   "name": "python3"
  },
  "language_info": {
   "codemirror_mode": {
    "name": "ipython",
    "version": 3
   },
   "file_extension": ".py",
   "mimetype": "text/x-python",
   "name": "python",
   "nbconvert_exporter": "python",
   "pygments_lexer": "ipython3",
   "version": "3.8.8"
  }
 },
 "nbformat": 4,
 "nbformat_minor": 5
}
