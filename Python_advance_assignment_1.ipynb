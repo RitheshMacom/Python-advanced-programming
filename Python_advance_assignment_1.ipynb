{
 "cells": [
  {
   "cell_type": "markdown",
   "id": "84886d7a",
   "metadata": {},
   "source": [
    "## Python Advance 1"
   ]
  },
  {
   "cell_type": "markdown",
   "id": "a829e28d",
   "metadata": {},
   "source": [
    "### 1.What is the purpose of python's OOP?"
   ]
  },
  {
   "cell_type": "code",
   "execution_count": 1,
   "id": "82ec3247",
   "metadata": {},
   "outputs": [],
   "source": [
    "#Object-Oriented Programming makes the program easy to understand as well as efficient.\n",
    "#Since the class is sharable, the code can be reused.\n",
    "#Data is safe and secure with data abstraction.\n",
    "#Polymorphism allows the same interface for different objects, so programmers can write efficient code\n",
    "#Inherit feature allows programmer to inhetit the methods from existing programs."
   ]
  },
  {
   "cell_type": "markdown",
   "id": "68c4bf00",
   "metadata": {},
   "source": [
    "### 2.Where does an inheritance search look for an attribute?"
   ]
  },
  {
   "cell_type": "code",
   "execution_count": 2,
   "id": "cd10c613",
   "metadata": {},
   "outputs": [],
   "source": [
    "#First search happens in the instance of class object. \n",
    "#Then it searches in the first class passed from which it inherits i.e its parent class or super class. \n",
    "#If the first class from which it inherits doesnt have the\n",
    "#value attribute, it will inherit it from second class passed from which it inherits and in the order it is passed."
   ]
  },
  {
   "cell_type": "markdown",
   "id": "007eb5b9",
   "metadata": {},
   "source": [
    "### 3.How do you distinguish between a class object and an instance object?"
   ]
  },
  {
   "cell_type": "markdown",
   "id": "7037218a",
   "metadata": {},
   "source": [
    "**Class Object** -  when we create a class , a class object is created.The class name itself is class object.\n",
    "    we can access class variable using this class name\n",
    "    \n",
    "   **Instance Object** - when we access class with paranthesis like **test()**, this will creat a instance of a class. we can have n numbers of instance objects for same class. "
   ]
  },
  {
   "cell_type": "code",
   "execution_count": 3,
   "id": "9840cf5e",
   "metadata": {},
   "outputs": [
    {
     "name": "stdout",
     "output_type": "stream",
     "text": [
      "10\n"
     ]
    }
   ],
   "source": [
    "#class object\n",
    "class test:\n",
    "    x = 10\n",
    "    def __init__(self,a,b):\n",
    "        self.a = a\n",
    "        self.b = b\n",
    "print(test.x) #using this text.x we can access its class variables,We can have only one class objects for a class.        "
   ]
  },
  {
   "cell_type": "code",
   "execution_count": 4,
   "id": "14764f98",
   "metadata": {},
   "outputs": [
    {
     "data": {
      "text/plain": [
       "7"
      ]
     },
     "execution_count": 4,
     "metadata": {},
     "output_type": "execute_result"
    }
   ],
   "source": [
    "#Instance object\n",
    "instobj = test(7,9)\n",
    "instobj.a"
   ]
  },
  {
   "cell_type": "markdown",
   "id": "916808cf",
   "metadata": {},
   "source": [
    "### 4.What makes the first argument in a class's method function special?"
   ]
  },
  {
   "cell_type": "code",
   "execution_count": 5,
   "id": "fb5d154c",
   "metadata": {},
   "outputs": [],
   "source": [
    "#The 'self' is the mostly used first argument function basically we can use anyword\n",
    "#But 'self' is recieved as the first argument of the class method function,\n",
    "#The keyword self represents the instance of a class and binds the attributes with the given arguments"
   ]
  },
  {
   "cell_type": "markdown",
   "id": "3afa58e8",
   "metadata": {},
   "source": [
    "### 5. What is the purpose of the __init__ method?"
   ]
  },
  {
   "cell_type": "code",
   "execution_count": 6,
   "id": "107599d5",
   "metadata": {},
   "outputs": [
    {
     "name": "stdout",
     "output_type": "stream",
     "text": [
      "45 80\n"
     ]
    }
   ],
   "source": [
    "#The purpose of the __init__ method is to initialize the instance of a class when it is created\n",
    "#__init__ is a reseved method in python classes.\n",
    "#This method called when an object is created from the class and it allow the class to initialize the attributes of a class\n",
    "class A:\n",
    "    def __init__(self,ex,fy):\n",
    "        self.ex = ex\n",
    "        self.fy = fy\n",
    "obj = A(45,80)\n",
    "print(obj.ex,obj.fy)#The instance of the obj is passed by default"
   ]
  },
  {
   "cell_type": "markdown",
   "id": "af6de0ba",
   "metadata": {},
   "source": [
    "### 6.What is the process for creating a class instance?"
   ]
  },
  {
   "cell_type": "code",
   "execution_count": 7,
   "id": "08f33f86",
   "metadata": {},
   "outputs": [
    {
     "name": "stdout",
     "output_type": "stream",
     "text": [
      "True\n"
     ]
    }
   ],
   "source": [
    "#To Create instances of class,\n",
    "#step 1 - Create a class\n",
    "#step 2 - Call the class using the class name and assign it to a variale(object variable)\n",
    "#step 3 - Pass in whatever arguments its init aspects\n",
    "\n",
    "\n",
    "#EXAMPLE\n",
    "class Employee:\n",
    "    empCount = 0\n",
    "\n",
    "    def __init__(self, name, salary):\n",
    "        self.name = name\n",
    "        self.salary = salary\n",
    "        Employee.empCount += 1\n",
    "        \n",
    "ObjClass  = Employee('teja','85000')        \n",
    "print(isinstance(ObjClass,Employee)) "
   ]
  },
  {
   "cell_type": "markdown",
   "id": "db20fe40",
   "metadata": {},
   "source": [
    "### 7.What is the process for creating a class?"
   ]
  },
  {
   "cell_type": "code",
   "execution_count": 8,
   "id": "f7c28546",
   "metadata": {},
   "outputs": [],
   "source": [
    "#Process to create class\n",
    "#1.Class definition starts with keyword class\n",
    "#2.Followed by classname and ':'\n",
    "#3.Class will have doc string\n",
    "#4.class should have atleast one statement\n",
    "\n",
    "#Example\n",
    "class MyNewclass:\n",
    "    \"This is a docstring i have created a new class\"\n",
    "    pass"
   ]
  },
  {
   "cell_type": "markdown",
   "id": "a6f85bd0",
   "metadata": {},
   "source": [
    "### 8.How would you define the superclass of a class?"
   ]
  },
  {
   "cell_type": "code",
   "execution_count": 13,
   "id": "b33f6e44",
   "metadata": {},
   "outputs": [
    {
     "name": "stdout",
     "output_type": "stream",
     "text": [
      "<__main__.Student object at 0x000001616F63DB20> <class '__main__.Student'>\n",
      "<__main__.Professor object at 0x000001616F63D340> <class '__main__.Professor'>\n",
      "Hi, I am Ross\n"
     ]
    }
   ],
   "source": [
    "#The class from which a class inherits is called the parent or superclass\n",
    "class Student:\n",
    "    \n",
    "    def __init__(self, name):\n",
    "        self.name = name\n",
    "        \n",
    "    def say_hi(self):\n",
    "        print(\"Hi, I am \" + self.name)\n",
    "        \n",
    "class Professor(Student):\n",
    "    pass\n",
    "\n",
    "x = Student(\"Monica\")\n",
    "y = Professor(\"Ross\")\n",
    "\n",
    "print(x, type(x))\n",
    "print(y, type(y))\n",
    "\n",
    "y.say_hi()"
   ]
  },
  {
   "cell_type": "code",
   "execution_count": null,
   "id": "ff2fafa4",
   "metadata": {},
   "outputs": [],
   "source": []
  }
 ],
 "metadata": {
  "kernelspec": {
   "display_name": "Python 3",
   "language": "python",
   "name": "python3"
  },
  "language_info": {
   "codemirror_mode": {
    "name": "ipython",
    "version": 3
   },
   "file_extension": ".py",
   "mimetype": "text/x-python",
   "name": "python",
   "nbconvert_exporter": "python",
   "pygments_lexer": "ipython3",
   "version": "3.8.8"
  }
 },
 "nbformat": 4,
 "nbformat_minor": 5
}
