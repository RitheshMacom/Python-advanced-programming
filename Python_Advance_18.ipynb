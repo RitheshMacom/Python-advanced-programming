{
 "cells": [
  {
   "cell_type": "markdown",
   "id": "99cdc587",
   "metadata": {},
   "source": [
    "### Q1. Describe the differences between text and binary files in a single paragraph."
   ]
  },
  {
   "cell_type": "markdown",
   "id": "1575316a",
   "metadata": {},
   "source": [
    "    Text File:\n",
    "    \n",
    "    Bits represent of every character. it is likely to Less prone to get corrupt as changes reflect as soon as the file is opened and can easily be undone. Text file Can store only plain text in a file. It is Widely used file format and can be opened using any simple text editor. Mostly .txt and .rtf are used as extensions to text files. It is readebel to us or humans.\n",
    "    \n",
    "    Binary File: \n",
    "    \n",
    "    It is Bits represent a custom data. It Can easily get corrupted, Even a single bit change may corrupt the file. Binary file Can store different types of data (image, audio, text) in a single file. Developed especially for an application and may not be understood by other applications. Can have any application defined extension.    "
   ]
  },
  {
   "cell_type": "markdown",
   "id": "6051bd9e",
   "metadata": {},
   "source": [
    "### Q2. What are some scenarios where using text files will be the better option? When would you like to use binary files instead of text files?"
   ]
  },
  {
   "cell_type": "markdown",
   "id": "f94cfbb7",
   "metadata": {},
   "source": [
    "    Text file: When we wan to store some information in such a way that every one can easily understand. Means readable and understood by the human not to the machine then in that case we prefer using text file. We can store any kind of information by using just simply writing the characters. We do not write the information in the form of bits and all. So that if any thing is written wrong in that and cause some erro then it can be easily handle.\n",
    "    \n",
    "    Binary file: When we want to make some kind of a file which can only read by the machine not by the human then we use binary file. With this file we can store the information in bits. We can only be able to see the final functionality of the file like pdf file, audio file, video files, etc. We can only see the fina function but do not see the available data inside that which helped in maing that application."
   ]
  },
  {
   "cell_type": "markdown",
   "id": "ed206432",
   "metadata": {},
   "source": [
    "### Q3. What are some of the issues with using binary operations to read and write a Python integer directly to disc?"
   ]
  },
  {
   "cell_type": "markdown",
   "id": "510b3f35",
   "metadata": {},
   "source": [
    "    While reading,read method returns a sequence of bytes as a string. With using binary operaions i.e. using bitwise operator the integers are first converted into binary and then operations are performed on bit by bit. This is a very lengthy task from usual steps. More over it is not possible for a reader to read the integers in binary format."
   ]
  },
  {
   "cell_type": "markdown",
   "id": "70b1eb33",
   "metadata": {},
   "source": [
    "### Q4. Describe a benefit of using the with keyword instead of explicitly opening a file."
   ]
  },
  {
   "cell_type": "markdown",
   "id": "9c3a3689",
   "metadata": {},
   "source": [
    "    With keyword is very useful while working with a file. This gives u a privellage that u dnt need to worry about closing the file after the work is completed. Sometimes it happen that we have written a long codes and we somehow we forgot to close the file. This may lead to error with the file so we use with keyword.\n",
    "    The with statement itself ensures proper acquisition and release of resources"
   ]
  },
  {
   "cell_type": "markdown",
   "id": "0a94ad8c",
   "metadata": {},
   "source": [
    "### Q5. Does Python have the trailing newline while reading a line of text? Does Python append a newline when you write a line of text?"
   ]
  },
  {
   "cell_type": "markdown",
   "id": "e93fb0ea",
   "metadata": {},
   "source": [
    "    In case of read line it is reading a line using object.read() function everynew line will be readed\n",
    "\n",
    "    write line: No it does not append a new line. It will just write the new data side by side. If we use 'w' as a mode then this will truncate the everyline if available there in the file and write the new text which we have given. And again if we give the new text more than one time in the same code, it will get append to the next right."
   ]
  },
  {
   "cell_type": "markdown",
   "id": "f3d5aa5b",
   "metadata": {},
   "source": [
    "### Q6. What file operations enable for random-access operation?"
   ]
  },
  {
   "cell_type": "markdown",
   "id": "9f2b3abb",
   "metadata": {},
   "source": [
    "    RandomAccess File class is used for reading and writing to random access file. read and write file handling operation enable random access operations. With these operations, random access file allows you to read and write a small chunk of data at any position in the file, using a file pointer.\n",
    "\n",
    "    Following are some of the file operations:\n",
    "\n",
    "    -close(): It closes this random access fle stream and releases any system resources associated with the stream.\n",
    "    -write(): It writes the specifed byte to this fle\n",
    "    -read(): It reads a byte of data from this fle.\n",
    "    -length(): It returns the length of this fle\n",
    "    -seek(long pos): moves the file pointer to a specified position in the file. The offset is measured in bytes from the * beginning of the file. At this position, the next read or write occurs."
   ]
  },
  {
   "cell_type": "markdown",
   "id": "f87e8fcf",
   "metadata": {},
   "source": [
    "### Q7. When do you think you'll use the struct package the most?"
   ]
  },
  {
   "cell_type": "markdown",
   "id": "5cd367ac",
   "metadata": {},
   "source": [
    "    Whenever suppose we need to convert the data types (like string and number) into string of bytes we use struct module.\n",
    "\n",
    "    When we need to parse the binary files of data stored in C into python we generally used this module"
   ]
  },
  {
   "cell_type": "markdown",
   "id": "2591fa5b",
   "metadata": {},
   "source": [
    "### Q8. When is pickling the best option?"
   ]
  },
  {
   "cell_type": "markdown",
   "id": "e71546ab",
   "metadata": {},
   "source": [
    "    pickling is storing format of some data in the binary form to further functionality or operation of application. The data gets converted into binary format by suing pickle module. It best when we are creating some application like machine learning model and then we need save it and later stage we may need to load it for deployment."
   ]
  },
  {
   "cell_type": "markdown",
   "id": "4a3d11c0",
   "metadata": {},
   "source": [
    "### Q9. When will it be best to use the shelve package?"
   ]
  },
  {
   "cell_type": "markdown",
   "id": "d9ac9c97",
   "metadata": {},
   "source": [
    "    When we need to store the data in constant/continuos manner such that we do not require the relational data base, then we use shelve package. The shelve object defined in this module is dictionary-like object which is persistently stored in a disk file. This creates a file similar to dbm database. Only string data type can be used as key in this special dictionary object. "
   ]
  },
  {
   "cell_type": "markdown",
   "id": "c9abef2d",
   "metadata": {},
   "source": [
    "### Q10. What is a special restriction when using the shelve package, as opposed to using other data dictionaries?"
   ]
  },
  {
   "cell_type": "markdown",
   "id": "b8c27b48",
   "metadata": {},
   "source": [
    "    One Restriction of shelve objects is that the keys to the objects must be strings, but the values stored in a shelve object can be any Python object, as long as it can be written with the pickle module"
   ]
  },
  {
   "cell_type": "code",
   "execution_count": null,
   "id": "3f8620fb",
   "metadata": {},
   "outputs": [],
   "source": []
  }
 ],
 "metadata": {
  "kernelspec": {
   "display_name": "Python 3",
   "language": "python",
   "name": "python3"
  },
  "language_info": {
   "codemirror_mode": {
    "name": "ipython",
    "version": 3
   },
   "file_extension": ".py",
   "mimetype": "text/x-python",
   "name": "python",
   "nbconvert_exporter": "python",
   "pygments_lexer": "ipython3",
   "version": "3.8.8"
  }
 },
 "nbformat": 4,
 "nbformat_minor": 5
}
