{
 "cells": [
  {
   "cell_type": "markdown",
   "id": "ce770953",
   "metadata": {},
   "source": [
    "### 1. What are the new features added in Python 3.8 version ?"
   ]
  },
  {
   "cell_type": "markdown",
   "id": "7bf48c3d",
   "metadata": {},
   "source": [
    "    1. The walrus operator\n",
    "    2. Positional-only arguments\n",
    "    3. f-strings now support \"=\"\n",
    "    4. reversed() now works with dict\n",
    "    5. Simplified iterable unpacking for return and yield\n",
    "    6. New syntax warnings\n",
    "    7. Performance improvements"
   ]
  },
  {
   "cell_type": "markdown",
   "id": "1fb8db37",
   "metadata": {},
   "source": [
    "### 2. What is Monkey Patching in Python ?"
   ]
  },
  {
   "cell_type": "markdown",
   "id": "fd3389cf",
   "metadata": {},
   "source": [
    "    Monkey patching is a dynamic technique in Python by which you can modify the behavior of an existing class or module."
   ]
  },
  {
   "cell_type": "markdown",
   "id": "10c46d7e",
   "metadata": {},
   "source": [
    "### 3. What is the difference between a shallow copy and deep copy ?"
   ]
  },
  {
   "cell_type": "markdown",
   "id": "c2e68845",
   "metadata": {},
   "source": [
    "    Shallow Copy stores the copy of the original object and points the references to the objects. Deep copy stores the copy of the original object and recursively copies the objects as well."
   ]
  },
  {
   "cell_type": "markdown",
   "id": "a4519471",
   "metadata": {},
   "source": [
    "### 4. What is the maximum possible length of an identifier ?"
   ]
  },
  {
   "cell_type": "markdown",
   "id": "01dc879c",
   "metadata": {},
   "source": [
    "    In Python, the highest possible length of an identifier is 79 characters."
   ]
  },
  {
   "cell_type": "markdown",
   "id": "9f9084b2",
   "metadata": {},
   "source": [
    "### 5, What is generator comprehension ?"
   ]
  },
  {
   "cell_type": "markdown",
   "id": "733b4180",
   "metadata": {},
   "source": [
    "    A generator comprehension is a single-line specification for defining a generator in Python. just like List Comprehension"
   ]
  },
  {
   "cell_type": "code",
   "execution_count": null,
   "id": "df2afb64",
   "metadata": {},
   "outputs": [],
   "source": []
  }
 ],
 "metadata": {
  "kernelspec": {
   "display_name": "Python 3",
   "language": "python",
   "name": "python3"
  },
  "language_info": {
   "codemirror_mode": {
    "name": "ipython",
    "version": 3
   },
   "file_extension": ".py",
   "mimetype": "text/x-python",
   "name": "python",
   "nbconvert_exporter": "python",
   "pygments_lexer": "ipython3",
   "version": "3.8.8"
  }
 },
 "nbformat": 4,
 "nbformat_minor": 5
}
