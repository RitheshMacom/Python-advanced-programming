{
 "cells": [
  {
   "cell_type": "markdown",
   "id": "02d5c5ac",
   "metadata": {},
   "source": [
    "### Q1. Define the relationship between a class and its instances. Is it a one-to-one or a one-to-many partnership, for example?"
   ]
  },
  {
   "cell_type": "markdown",
   "id": "ead98d54",
   "metadata": {},
   "source": [
    "     A class is user-defined data structure classes define a function called methods which can be use to get some information based on the function is create. A class can be describe a blueprint for some structure that the programmer is defined, it would take data from user and are able to return some value through methods as it created.\n",
    "    \n",
    "    And the other side an instance is user object of that class, where the user will put their information in to the class and will get information based on there data. As many user will use the class an instance will be that many.\n",
    "\n",
    "    This is one-to-many relationship, one class can be use by many user. Like an example can be. If we have a Student class which take some input like roll no and student name, then one school will have many student and it is likely to have different name and roll number for each student. Here the Student class is one and its relationship is with many students."
   ]
  },
  {
   "cell_type": "markdown",
   "id": "67745c63",
   "metadata": {},
   "source": [
    "### Q2. What kind of data is held only in an instance?"
   ]
  },
  {
   "cell_type": "markdown",
   "id": "bfa5cbc0",
   "metadata": {},
   "source": [
    "    It store the values of the class attributes. When we give the attributes in the init function as an argument then the values which are stored in the object will get passed to it and attributes gets initialised and later on init function passed these values to the class"
   ]
  },
  {
   "cell_type": "markdown",
   "id": "372c6677",
   "metadata": {},
   "source": [
    "### Q3. What kind of knowledge is stored in a class?"
   ]
  },
  {
   "cell_type": "markdown",
   "id": "c559e5ca",
   "metadata": {},
   "source": [
    "    A class contains many information. It contains all the information about the attributes, methods function,etc. All kind of behaviours which class have in the form of methods and attributes are held inside the class."
   ]
  },
  {
   "cell_type": "markdown",
   "id": "c0c0c2a6",
   "metadata": {},
   "source": [
    "### Q4. What exactly is a method, and how is it different from a regular function?"
   ]
  },
  {
   "cell_type": "markdown",
   "id": "33f52f1b",
   "metadata": {},
   "source": [
    "    A regular function is not dependent on any other object but a class method Is dependent on the class instance or class object. For using that class method we need class instance and we need to put class instance and dot followed by the function or method name. but in regular function does not need any of these we can simply call it by regular way."
   ]
  },
  {
   "cell_type": "markdown",
   "id": "ce6f3afd",
   "metadata": {},
   "source": [
    "### Q5. Is inheritance supported in Python, and if so, what is the syntax?"
   ]
  },
  {
   "cell_type": "markdown",
   "id": "dc698e3c",
   "metadata": {},
   "source": [
    "    Yes inheritance is support in python and it is denoted inside of parenthesis followed by child class in the time of defining of child class.\n",
    "\n",
    "    here is an example of syntax of inheritance of parent class inside of child class"
   ]
  },
  {
   "cell_type": "code",
   "execution_count": 1,
   "id": "607614af",
   "metadata": {},
   "outputs": [],
   "source": [
    "class Parent(): # creating aparent class\n",
    "    pass\n",
    "\n",
    "class Child(Parent): # creating child class inheritance with parent class\n",
    "    pass"
   ]
  },
  {
   "cell_type": "markdown",
   "id": "a4cf0396",
   "metadata": {},
   "source": [
    "### Q6. How much encapsulation (making instance or class variables private) does Python support?"
   ]
  },
  {
   "cell_type": "markdown",
   "id": "6bce2a14",
   "metadata": {},
   "source": [
    "    Python supports encapsulation. It combine all the behaviour, properties and attributes of a class inside a single class object. So that we do not have to perform separate separate operation through different means. We just need a single object to perfomr all those task. It also hide the implementation of the task. Means we do ot required to focus on the backend task. We just need to foucs on the output, result when any operation si performed.\n",
    "\n",
    "    If we talk about making instance or class variables private, then yes. It makes them both of them private so that there is not chances of changing or modifying the code or some values. So we just make those attributes and methods private which have a severe impact on the codes, so that any other person can figure it it out by just looking into it."
   ]
  },
  {
   "cell_type": "markdown",
   "id": "296fc182",
   "metadata": {},
   "source": [
    "### Q7. How do you distinguish between a class variable and an instance variable?"
   ]
  },
  {
   "cell_type": "markdown",
   "id": "4747b6c4",
   "metadata": {},
   "source": [
    "    Class variables − Class variables also known as self variables are declared with the self keyword in a class, but outside a method, constructor or inside the __init__ method. There would only be one copy of each class variable per class, regardless of how many objects are created from it.\n",
    "\n",
    "    Instance variables − Instance variables are declared in a class, but outside a method. When space is allocated for an object in the heap, a slot for each instance variable value is created. Instance variables hold values that must be referenced by more than one method, constructor or block, or essential parts of an object's state that must be present throughout the class."
   ]
  },
  {
   "cell_type": "markdown",
   "id": "87bd2aa3",
   "metadata": {},
   "source": [
    "### Q8. When, if ever, can self be included in a class's method definitions?"
   ]
  },
  {
   "cell_type": "markdown",
   "id": "c5ed1b3f",
   "metadata": {},
   "source": [
    "    The self will be included in class method definition for all the time, it Is the first argument that any method of a class is taken, if some method does not require any value for the calculation in that time also it will self argument,\n",
    "\n",
    "    The self is telling that the function is not any regular function and the values are associated which refer to the class itself."
   ]
  },
  {
   "cell_type": "markdown",
   "id": "02f31105",
   "metadata": {},
   "source": [
    "### Q9. What is the difference between the _ add and the radd _ methods?"
   ]
  },
  {
   "cell_type": "markdown",
   "id": "557ad8c1",
   "metadata": {},
   "source": [
    "    add is simply an built method which add the two items when it is pased, whose class is having this method. Like integer and string class have this method and in case of integer this method will add up the two values and in case of string class this will concatenate the two items.\n",
    "\n",
    "    radd This is inside the integer class but not in string class. This also add up the two number. But the the difference is, radd is only called if the left object does not have an add method, or that method does not know how to add the two objects. If both the classes have add method then this will not called."
   ]
  },
  {
   "cell_type": "markdown",
   "id": "6a3cdcce",
   "metadata": {},
   "source": [
    "### Q10. When do you really need a reflection method? When do you not need it, even though you support the operation in question"
   ]
  },
  {
   "cell_type": "markdown",
   "id": "163a2b74",
   "metadata": {},
   "source": [
    "    Reflection is a facility where you can query an object about its attributes at runtime. Meaning, we can modify the object variable, create new class atrributes during the run without initialising inside the constructor. It is then display by invoking it as an instance variable. This is an reflection facility. This is needed when we have sudden requirement of any new attributes that has to work with the class"
   ]
  },
  {
   "cell_type": "markdown",
   "id": "5090fd7d",
   "metadata": {},
   "source": [
    "### Q11. What is the _ iadd _ method called?"
   ]
  },
  {
   "cell_type": "markdown",
   "id": "dea1e451",
   "metadata": {},
   "source": [
    "    It is an inplace add method which is an built in method. Like that of add , it also adds the two value but unlike _ add _ , it stores that value which was calculated.\n",
    "\n",
    "    iadd is actually storing value its adding into the instance variable and return the new value"
   ]
  },
  {
   "cell_type": "markdown",
   "id": "bfb72173",
   "metadata": {},
   "source": [
    "### Q12. Is the _ init _ method inherited by subclasses? What do you do if you need to customize its behavior within a subclass?"
   ]
  },
  {
   "cell_type": "markdown",
   "id": "2d69750e",
   "metadata": {},
   "source": [
    "    init method is basically used for constructing the object variables meaning, initialisation of object variables happen, where the class attributes gets the values from the class instance where the values are stored. So when we want to inherit the attributes/variables of the class then we need to inherit the init method also. This implies that whatever the variables were initialise in the parent class, those will also get initialise in the subclass. We uses super() method in order to call the parent class.\n",
    "\n",
    "    We can customise the behaviour of the subclass by declaring some new other attributes and initialising them. However these new attributes will only get accessed by the subclass object. We could use overridding technique also for changing the behaviour of the init method without defining it separately inside the subclass\n",
    "\n",
    " "
   ]
  },
  {
   "cell_type": "code",
   "execution_count": null,
   "id": "196a3b83",
   "metadata": {},
   "outputs": [],
   "source": []
  }
 ],
 "metadata": {
  "kernelspec": {
   "display_name": "Python 3",
   "language": "python",
   "name": "python3"
  },
  "language_info": {
   "codemirror_mode": {
    "name": "ipython",
    "version": 3
   },
   "file_extension": ".py",
   "mimetype": "text/x-python",
   "name": "python",
   "nbconvert_exporter": "python",
   "pygments_lexer": "ipython3",
   "version": "3.8.8"
  }
 },
 "nbformat": 4,
 "nbformat_minor": 5
}
