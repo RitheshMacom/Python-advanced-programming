{
 "cells": [
  {
   "cell_type": "markdown",
   "id": "a4699d5d",
   "metadata": {},
   "source": [
    "### Q1. Compare and contrast the float and Decimal classes' benefits and drawbacks ?"
   ]
  },
  {
   "cell_type": "markdown",
   "id": "4437ff21",
   "metadata": {},
   "source": [
    "    Decimal class\n",
    "\n",
    "        -Provides support for fast correctly-rounded decimal floating point arithmetic.\n",
    "\n",
    "        I-t gives the provison to represent the number in a representative way so that it is clearly undertood by the user.\n",
    "\n",
    "        -give you the exact arithmatic operation result like we use to do normally,\n",
    "\n",
    "        -Object exposes all required parts of the standard. When needed, we can change the rounding and signal handling. This includes an option to enforce exact arithmetic by using exceptions to block any inexact operations.\n",
    "\n",
    "        O-bjects share many properties with the other built-in numeric types such as float and int. All of the usual math operations and special methods apply.\n",
    "\n",
    "        -It can be constructed from integers, strings, floats, or tuples. Construction from an integer or a float performs an exact conversion of the value of that integer or float.\n",
    "\n",
    "        -It is faster way to get precise value which we human work and have a smaller range than the float\n",
    "\n",
    "        -Decimal types are better suited for financial and monetary calculations\n",
    "\n",
    "        -The Decimal has a default precision of 28 places\n",
    "\n",
    "    Floating class\n",
    "\n",
    "        -It do not represent the exact precise value value.\n",
    "\n",
    "        -It gives the value close to the result.\n",
    "\n",
    "        -The float object exposes only a modest portion of its capabilities\n",
    "\n",
    "        -Some values cannot be exactly represented in a float data type. For instance, storing the 0.1 value in float (which is a binary floating point value) variable we get only an approximation of the value. Similarly, the 1/3 value cannot be represented exactly in decimal floating point type.\n",
    "\n",
    "        -Float types is best suited for scientific calculations\n",
    "\n",
    "       -The float has default precision of 18 places."
   ]
  },
  {
   "cell_type": "markdown",
   "id": "c66f6806",
   "metadata": {},
   "source": [
    "### Q2. Decimal('1.200') and Decimal('1.2') are two objects to consider. In what sense are these the same object? Are these just two ways of representing the exact same value, or do they correspond to different internal states?"
   ]
  },
  {
   "cell_type": "code",
   "execution_count": 1,
   "id": "44bbb0b3",
   "metadata": {},
   "outputs": [],
   "source": [
    "# Importing Decimal\n",
    "from decimal import Decimal\n",
    "\n",
    "# Create two decimal objects\n",
    "d1 = Decimal('1.200')\n",
    "d2 = Decimal('1.2')"
   ]
  },
  {
   "cell_type": "code",
   "execution_count": 2,
   "id": "5982db2f",
   "metadata": {},
   "outputs": [
    {
     "data": {
      "text/plain": [
       "True"
      ]
     },
     "execution_count": 2,
     "metadata": {},
     "output_type": "execute_result"
    }
   ],
   "source": [
    "# Checking both are same object or not\n",
    "d1 == d2"
   ]
  },
  {
   "cell_type": "code",
   "execution_count": 3,
   "id": "6f7c9928",
   "metadata": {},
   "outputs": [
    {
     "data": {
      "text/plain": [
       "False"
      ]
     },
     "execution_count": 3,
     "metadata": {},
     "output_type": "execute_result"
    }
   ],
   "source": [
    "# Checking these two ways of representing the exact some values\n",
    "d1 is d2"
   ]
  },
  {
   "cell_type": "markdown",
   "id": "b07a3ac4",
   "metadata": {},
   "source": [
    "    By looking at the value it is not equal. This can be seen if we use is operator to check for d1 and d2. If we print the d1 and d2 we do not get the same value but still it will shwo the equality this is because the normalised value of both the object is same. But both the objects are same as they both give the same normalised value.\n",
    "\n",
    "    Another way to represent them is in the form of normlaization"
   ]
  },
  {
   "cell_type": "markdown",
   "id": "c215a99e",
   "metadata": {},
   "source": [
    "### Q3. What happens if the equality of Decimal('1.200') and Decimal('1.2') is checked?"
   ]
  },
  {
   "cell_type": "code",
   "execution_count": 4,
   "id": "53c9a237",
   "metadata": {},
   "outputs": [
    {
     "name": "stdout",
     "output_type": "stream",
     "text": [
      "1.2\n",
      "1.2\n"
     ]
    },
    {
     "data": {
      "text/plain": [
       "True"
      ]
     },
     "execution_count": 4,
     "metadata": {},
     "output_type": "execute_result"
    }
   ],
   "source": [
    "# Nomralized two values\n",
    "d1_norm = d1.normalize()\n",
    "d2_norm = d2.normalize()\n",
    "\n",
    "# print two normalized value\n",
    "print(d1_norm)\n",
    "print(d1_norm)\n",
    "\n",
    "# Checking for equality\n",
    "d1_norm == d2_norm"
   ]
  },
  {
   "cell_type": "markdown",
   "id": "a98fbdb6",
   "metadata": {},
   "source": [
    "### Q4. Why is it preferable to start a Decimal object with a string rather than a floating-point value?"
   ]
  },
  {
   "cell_type": "markdown",
   "id": "1847d516",
   "metadata": {},
   "source": [
    "    Because while initilising with a string, this will give the exact value of the number available in the quotes ' '. While in case of floating point value, it first has to convert from float then using the round operation we will get the result with the desired precision"
   ]
  },
  {
   "cell_type": "markdown",
   "id": "d9cb180d",
   "metadata": {},
   "source": [
    "### Q5. In an arithmetic phrase, how simple is it to combine Decimal objects with integers?"
   ]
  },
  {
   "cell_type": "markdown",
   "id": "246db8d2",
   "metadata": {},
   "source": [
    "    It is that much easy as we do normal calculation. How ever if we do not specify the number as a string then in order to get in decimal form we fisrt need to convert the value from float into decimal object and use the round method to get the precise value."
   ]
  },
  {
   "cell_type": "code",
   "execution_count": 5,
   "id": "b053e3f2",
   "metadata": {},
   "outputs": [
    {
     "name": "stdout",
     "output_type": "stream",
     "text": [
      "20.00\n"
     ]
    }
   ],
   "source": [
    "o1=Decimal('10.00')\n",
    "print(o1+10)"
   ]
  },
  {
   "cell_type": "code",
   "execution_count": 7,
   "id": "000e3f72",
   "metadata": {},
   "outputs": [
    {
     "name": "stdout",
     "output_type": "stream",
     "text": [
      "20.00\n"
     ]
    }
   ],
   "source": [
    "d=Decimal(10)\n",
    "print(round(d+10,2))"
   ]
  },
  {
   "cell_type": "code",
   "execution_count": 8,
   "id": "9827fbf2",
   "metadata": {},
   "outputs": [
    {
     "name": "stdout",
     "output_type": "stream",
     "text": [
      "100\n"
     ]
    }
   ],
   "source": [
    "f=100\n",
    "print(round(f,4))\n",
    "\n",
    "#here we don not have specified the Decimal class so here we do not get the precise value"
   ]
  },
  {
   "cell_type": "markdown",
   "id": "be4daf86",
   "metadata": {},
   "source": [
    "### Q6. Can Decimal objects and floating-point values be combined easily? "
   ]
  },
  {
   "cell_type": "markdown",
   "id": "a467a683",
   "metadata": {},
   "source": [
    "    To combine floating-point to Decimal we need convert float to Decimal object and then we can perform combine operation."
   ]
  },
  {
   "cell_type": "code",
   "execution_count": 9,
   "id": "c48331b8",
   "metadata": {},
   "outputs": [
    {
     "ename": "TypeError",
     "evalue": "unsupported operand type(s) for +: 'decimal.Decimal' and 'float'",
     "output_type": "error",
     "traceback": [
      "\u001b[1;31m---------------------------------------------------------------------------\u001b[0m",
      "\u001b[1;31mTypeError\u001b[0m                                 Traceback (most recent call last)",
      "\u001b[1;32m<ipython-input-9-cbd439f28c4a>\u001b[0m in \u001b[0;36m<module>\u001b[1;34m\u001b[0m\n\u001b[0;32m      2\u001b[0m \u001b[1;33m\u001b[0m\u001b[0m\n\u001b[0;32m      3\u001b[0m \u001b[1;31m# combine it with d1\u001b[0m\u001b[1;33m\u001b[0m\u001b[1;33m\u001b[0m\u001b[1;33m\u001b[0m\u001b[0m\n\u001b[1;32m----> 4\u001b[1;33m \u001b[0md1\u001b[0m \u001b[1;33m+\u001b[0m \u001b[0md_float\u001b[0m \u001b[1;31m# Will through error\u001b[0m\u001b[1;33m\u001b[0m\u001b[1;33m\u001b[0m\u001b[0m\n\u001b[0m",
      "\u001b[1;31mTypeError\u001b[0m: unsupported operand type(s) for +: 'decimal.Decimal' and 'float'"
     ]
    }
   ],
   "source": [
    "d_float = 5.0\n",
    "\n",
    "# combine it with d1 \n",
    "d1 + d_float # Will through error"
   ]
  },
  {
   "cell_type": "code",
   "execution_count": 10,
   "id": "c0f1a07f",
   "metadata": {},
   "outputs": [
    {
     "data": {
      "text/plain": [
       "Decimal('6.200')"
      ]
     },
     "execution_count": 10,
     "metadata": {},
     "output_type": "execute_result"
    }
   ],
   "source": [
    "# combine after converting decimal object\n",
    "d_float_decimal = Decimal(d_float)\n",
    "\n",
    "# combine it with d1\n",
    "d_float_decimal + d1 # will run successfully."
   ]
  },
  {
   "cell_type": "markdown",
   "id": "798387f7",
   "metadata": {},
   "source": [
    "### Q7. Using the Fraction class but not the Decimal class, give an example of a quantity that can be expressed with absolute precision."
   ]
  },
  {
   "cell_type": "code",
   "execution_count": 11,
   "id": "b6b2fb55",
   "metadata": {},
   "outputs": [
    {
     "name": "stdout",
     "output_type": "stream",
     "text": [
      "0.30000000000000004\n"
     ]
    }
   ],
   "source": [
    "d=0.1+0.1+0.1\n",
    "print(d)"
   ]
  },
  {
   "cell_type": "code",
   "execution_count": 12,
   "id": "499d0b3a",
   "metadata": {},
   "outputs": [
    {
     "name": "stdout",
     "output_type": "stream",
     "text": [
      "0.3000000000000000166533453694\n"
     ]
    }
   ],
   "source": [
    "d=Decimal(0.1)+Decimal(0.1)+Decimal(0.1)\n",
    "print(d)"
   ]
  },
  {
   "cell_type": "markdown",
   "id": "5afdd4d8",
   "metadata": {},
   "source": [
    "    Here we see that the quantity that can be represemted with abosulte precision by using fraction value is 18 while decimal class it has 28"
   ]
  },
  {
   "cell_type": "markdown",
   "id": "cf96acf5",
   "metadata": {},
   "source": [
    "### Q8. Give an example of a quantity that can be represented exactly by either the Decimal or Fraction class but not by a floating-point value."
   ]
  },
  {
   "cell_type": "code",
   "execution_count": 13,
   "id": "6d70b4cd",
   "metadata": {},
   "outputs": [
    {
     "data": {
      "text/plain": [
       "Decimal('5.0000')"
      ]
     },
     "execution_count": 13,
     "metadata": {},
     "output_type": "execute_result"
    }
   ],
   "source": [
    "# accurately expressed by Decimal\n",
    "Decimal(\"5.0000\")"
   ]
  },
  {
   "cell_type": "code",
   "execution_count": 14,
   "id": "7dbfb62b",
   "metadata": {},
   "outputs": [
    {
     "data": {
      "text/plain": [
       "5.0"
      ]
     },
     "execution_count": 14,
     "metadata": {},
     "output_type": "execute_result"
    }
   ],
   "source": [
    "# Showing normal floating values\n",
    "dig = 5.0000\n",
    "dig"
   ]
  },
  {
   "cell_type": "markdown",
   "id": "b8b39515",
   "metadata": {},
   "source": [
    "### Q9.Consider the following two fraction objects: Fraction(1, 2) and Fraction(5, 10). Is the internal state of these two objects the same? Why do you think that is?"
   ]
  },
  {
   "cell_type": "code",
   "execution_count": 15,
   "id": "05cabf68",
   "metadata": {},
   "outputs": [
    {
     "name": "stdout",
     "output_type": "stream",
     "text": [
      "1/2\n"
     ]
    }
   ],
   "source": [
    "# Imporitng fraction\n",
    "from fractions import Fraction\n",
    "\n",
    "# getting a random example\n",
    "frac_1 = Fraction(1,2)\n",
    "print(frac_1)"
   ]
  },
  {
   "cell_type": "code",
   "execution_count": 16,
   "id": "e6ac1236",
   "metadata": {},
   "outputs": [
    {
     "name": "stdout",
     "output_type": "stream",
     "text": [
      "1/2\n"
     ]
    }
   ],
   "source": [
    "# another example of same values\n",
    "frac_2 = Fraction(5,10)\n",
    "print(frac_2)"
   ]
  },
  {
   "cell_type": "markdown",
   "id": "8547c887",
   "metadata": {},
   "source": [
    "    Although they give the same out output. Internal state of both the objects are not same, It is because the fraction class will calculate for the further simplication till the result remains in fraction form"
   ]
  },
  {
   "cell_type": "markdown",
   "id": "cf331e92",
   "metadata": {},
   "source": [
    "### Q10. How do the Fraction class and the integer type (int) relate to each other? Containment or inheritance?"
   ]
  },
  {
   "cell_type": "markdown",
   "id": "8ce66e2a",
   "metadata": {},
   "source": [
    "    Fraction class contains the pair of intgers values as numerator and denomenator and gives the result in the form of fraction. Since the values are belong to integer class an these class object are using by another object of fraction class. So here Containment is happening."
   ]
  },
  {
   "cell_type": "code",
   "execution_count": 17,
   "id": "0a4d9177",
   "metadata": {},
   "outputs": [
    {
     "name": "stdout",
     "output_type": "stream",
     "text": [
      "10/7\n"
     ]
    }
   ],
   "source": [
    "n=10\n",
    "d=7\n",
    "f=Fraction(n,d)\n",
    "print(f)"
   ]
  },
  {
   "cell_type": "code",
   "execution_count": null,
   "id": "975b55f9",
   "metadata": {},
   "outputs": [],
   "source": []
  }
 ],
 "metadata": {
  "kernelspec": {
   "display_name": "Python 3",
   "language": "python",
   "name": "python3"
  },
  "language_info": {
   "codemirror_mode": {
    "name": "ipython",
    "version": 3
   },
   "file_extension": ".py",
   "mimetype": "text/x-python",
   "name": "python",
   "nbconvert_exporter": "python",
   "pygments_lexer": "ipython3",
   "version": "3.8.8"
  }
 },
 "nbformat": 4,
 "nbformat_minor": 5
}
