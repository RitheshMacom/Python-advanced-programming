{
 "cells": [
  {
   "cell_type": "markdown",
   "id": "c1bb86a3",
   "metadata": {},
   "source": [
    "### 1. Describe three applications for exception processing ?"
   ]
  },
  {
   "cell_type": "markdown",
   "id": "0d258975",
   "metadata": {},
   "source": [
    "    The main three applications for exceptions processing is\n",
    "\n",
    "    try:\n",
    "    except:\n",
    "    finally:\n",
    "    \n",
    "    Try and except statements are used to catch and handle exceptions in Python.\n",
    "    Statements that can raise exceptions are kept inside the try clause and the statements that handle the exception are written inside except clause."
   ]
  },
  {
   "cell_type": "markdown",
   "id": "4e12a9e6",
   "metadata": {},
   "source": [
    "### 2. What happens if you don&#39;t do something extra to treat an exception?"
   ]
  },
  {
   "cell_type": "markdown",
   "id": "43e3cc74",
   "metadata": {},
   "source": [
    "    If I didn't do any extra to treat an exception then the error of the code will appear on our console that maybe will not recognizable to all end-user,\n",
    "\n",
    "    for that we have to convert the error to some easy to understand message for those end-users. Or we can use logging for exception handling."
   ]
  },
  {
   "cell_type": "markdown",
   "id": "2619d80b",
   "metadata": {},
   "source": [
    "### 3. What are your options for recovering from an exception in your script ?"
   ]
  },
  {
   "cell_type": "markdown",
   "id": "2eb638e0",
   "metadata": {},
   "source": [
    "    we can use except clause after try clause to recover the exception from my python script. We can use multiple exceptions in our script to recover the exception. then can use logging to store those exceptions into another file for better observation. \n",
    "    \n",
    "    Then I can use an else statement to get those errors that are occurred during the time of throwing the exceptions. Also, log these into another file."
   ]
  },
  {
   "cell_type": "markdown",
   "id": "eda8a8f4",
   "metadata": {},
   "source": [
    "### 4. Describe two methods for triggering exceptions in your script ?"
   ]
  },
  {
   "cell_type": "markdown",
   "id": "0c192c7c",
   "metadata": {},
   "source": [
    "The two methods are triggering exceptions are raise and assert.\n",
    "\n",
    "The raise statement will through an error at any point in time in my python script. This statement will trigger an error with specified exceptions type.\n",
    "\n",
    "And the second one is the assert statement will through an error if the following expression is false. Like this following code will through an error all the time\n",
    "\n",
    "assert False"
   ]
  },
  {
   "cell_type": "code",
   "execution_count": 2,
   "id": "ec3174ac",
   "metadata": {},
   "outputs": [
    {
     "ename": "Exception",
     "evalue": "('The error is', 6)",
     "output_type": "error",
     "traceback": [
      "\u001b[1;31m---------------------------------------------------------------------------\u001b[0m",
      "\u001b[1;31mException\u001b[0m                                 Traceback (most recent call last)",
      "\u001b[1;32m<ipython-input-2-66251c6a3712>\u001b[0m in \u001b[0;36m<module>\u001b[1;34m\u001b[0m\n\u001b[0;32m      4\u001b[0m     \u001b[1;32melse\u001b[0m\u001b[1;33m:\u001b[0m\u001b[1;33m\u001b[0m\u001b[1;33m\u001b[0m\u001b[0m\n\u001b[0;32m      5\u001b[0m         \u001b[0mprint\u001b[0m\u001b[1;33m(\u001b[0m\u001b[1;34m'ok input'\u001b[0m\u001b[1;33m)\u001b[0m\u001b[1;33m\u001b[0m\u001b[1;33m\u001b[0m\u001b[0m\n\u001b[1;32m----> 6\u001b[1;33m \u001b[0ma\u001b[0m\u001b[1;33m=\u001b[0m\u001b[0mx\u001b[0m\u001b[1;33m(\u001b[0m\u001b[1;36m6\u001b[0m\u001b[1;33m)\u001b[0m\u001b[1;33m\u001b[0m\u001b[1;33m\u001b[0m\u001b[0m\n\u001b[0m",
      "\u001b[1;32m<ipython-input-2-66251c6a3712>\u001b[0m in \u001b[0;36mx\u001b[1;34m(n)\u001b[0m\n\u001b[0;32m      1\u001b[0m \u001b[1;32mdef\u001b[0m \u001b[0mx\u001b[0m\u001b[1;33m(\u001b[0m\u001b[0mn\u001b[0m\u001b[1;33m)\u001b[0m\u001b[1;33m:\u001b[0m\u001b[1;33m\u001b[0m\u001b[1;33m\u001b[0m\u001b[0m\n\u001b[0;32m      2\u001b[0m     \u001b[1;32mif\u001b[0m \u001b[0mn\u001b[0m\u001b[1;33m==\u001b[0m\u001b[1;36m6\u001b[0m\u001b[1;33m:\u001b[0m\u001b[1;33m\u001b[0m\u001b[1;33m\u001b[0m\u001b[0m\n\u001b[1;32m----> 3\u001b[1;33m         \u001b[1;32mraise\u001b[0m \u001b[0mException\u001b[0m\u001b[1;33m(\u001b[0m\u001b[1;34m'The error is'\u001b[0m\u001b[1;33m,\u001b[0m\u001b[0mn\u001b[0m\u001b[1;33m)\u001b[0m\u001b[1;33m\u001b[0m\u001b[1;33m\u001b[0m\u001b[0m\n\u001b[0m\u001b[0;32m      4\u001b[0m     \u001b[1;32melse\u001b[0m\u001b[1;33m:\u001b[0m\u001b[1;33m\u001b[0m\u001b[1;33m\u001b[0m\u001b[0m\n\u001b[0;32m      5\u001b[0m         \u001b[0mprint\u001b[0m\u001b[1;33m(\u001b[0m\u001b[1;34m'ok input'\u001b[0m\u001b[1;33m)\u001b[0m\u001b[1;33m\u001b[0m\u001b[1;33m\u001b[0m\u001b[0m\n",
      "\u001b[1;31mException\u001b[0m: ('The error is', 6)"
     ]
    }
   ],
   "source": [
    "def x(n):\n",
    "    if n==6:\n",
    "        raise Exception('The error is',n)\n",
    "    else:\n",
    "        print('ok input')\n",
    "a=x(6)    "
   ]
  },
  {
   "cell_type": "markdown",
   "id": "51ffeb98",
   "metadata": {},
   "source": [
    "### 5. Identify two methods for specifying actions to be executed at termination time, regardless of whether or not an exception exists ?"
   ]
  },
  {
   "cell_type": "markdown",
   "id": "b5c056ad",
   "metadata": {},
   "source": [
    "    One is finally statement will execute at no matter with the exception is occurred or not, it will always at whenever we use it. Although in general finally is used at the end of the script or the exception process.\n",
    "\n",
    "    And the second one is raise statement will always execute whenever we use It regardless if there is an exception or not."
   ]
  },
  {
   "cell_type": "code",
   "execution_count": null,
   "id": "955ff13d",
   "metadata": {},
   "outputs": [],
   "source": []
  }
 ],
 "metadata": {
  "kernelspec": {
   "display_name": "Python 3",
   "language": "python",
   "name": "python3"
  },
  "language_info": {
   "codemirror_mode": {
    "name": "ipython",
    "version": 3
   },
   "file_extension": ".py",
   "mimetype": "text/x-python",
   "name": "python",
   "nbconvert_exporter": "python",
   "pygments_lexer": "ipython3",
   "version": "3.8.8"
  }
 },
 "nbformat": 4,
 "nbformat_minor": 5
}
