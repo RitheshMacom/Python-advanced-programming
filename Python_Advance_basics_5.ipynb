{
 "cells": [
  {
   "cell_type": "markdown",
   "id": "c67b8cd7",
   "metadata": {},
   "source": [
    "### 1. What is the meaning of multiple inheritances?"
   ]
  },
  {
   "cell_type": "markdown",
   "id": "9a616725",
   "metadata": {},
   "source": [
    "    Inheritence means one class is deriving data from the single parent class but in case of multiple inheritance, a subclass is derived from more than one parent classes. \n",
    "    \n",
    "    Suppose A and B are the classes and class C is deriving data from A and B. We can say this is multiple inheritence"
   ]
  },
  {
   "cell_type": "markdown",
   "id": "4054a671",
   "metadata": {},
   "source": [
    "### 2. What is the concept of delegation?"
   ]
  },
  {
   "cell_type": "markdown",
   "id": "506b4095",
   "metadata": {},
   "source": [
    "    Lets say a is a object of parent class A and b is a object of child class B. \n",
    "    Then b can use all the variables and methods of parent class A to perform the operations. This is known as delegation. "
   ]
  },
  {
   "cell_type": "markdown",
   "id": "5499a8a5",
   "metadata": {},
   "source": [
    "### 3. What is the concept of Composition?"
   ]
  },
  {
   "cell_type": "markdown",
   "id": "4b2b0f6a",
   "metadata": {},
   "source": [
    "    Suppose there are multiple classes say, class A, class B and class C and their respective objects are a,b and c. \n",
    "    So when we are going to call the final class C and we wanted to utilise the items of the other previous classes A and B then we use their objects a and b when we create the final class object c by passing a and b into that."
   ]
  },
  {
   "cell_type": "code",
   "execution_count": 1,
   "id": "71d01da0",
   "metadata": {},
   "outputs": [],
   "source": [
    "class A:\n",
    "    def __init__(self):\n",
    "        pass\n",
    "a=A()\n",
    "\n",
    "class B:\n",
    "    def __init__(self):\n",
    "        pass\n",
    "b=B()\n",
    "\n",
    "class C:\n",
    "    def __init__(selfo,bject_a,object_b):\n",
    "        pass\n",
    "c=C(a,b)"
   ]
  },
  {
   "cell_type": "markdown",
   "id": "1e9d7649",
   "metadata": {},
   "source": [
    "### 4.What are bound methods and how do we use them ?"
   ]
  },
  {
   "cell_type": "markdown",
   "id": "eedfdb47",
   "metadata": {},
   "source": [
    "    Function whcich is defined inside the class and take the instance of a class as its first argument is known as bound function. This is because it bounded by the class. It can only perfrom the operation by using the class object."
   ]
  },
  {
   "cell_type": "code",
   "execution_count": 2,
   "id": "84e809e3",
   "metadata": {},
   "outputs": [
    {
     "data": {
      "text/plain": [
       "<bound method A.func of <__main__.A object at 0x000001E972E00DF0>>"
      ]
     },
     "execution_count": 2,
     "metadata": {},
     "output_type": "execute_result"
    }
   ],
   "source": [
    "# example of bound method\n",
    "\n",
    "class A:\n",
    "    def __init__(self):\n",
    "        pass\n",
    "\n",
    "    def func(self):\n",
    "        return 'hello world'\n",
    "    \n",
    "obj = A()\n",
    "\n",
    "obj.func"
   ]
  },
  {
   "cell_type": "markdown",
   "id": "c34d5a69",
   "metadata": {},
   "source": [
    "### 5. What is the purpose of pseudoprivate attributes?"
   ]
  },
  {
   "cell_type": "markdown",
   "id": "bd725696",
   "metadata": {},
   "source": [
    "    The pseudoprivate attribute is also called private attribute, these are attribute which is private and user cannot access them, it has some special way to call them.\n",
    "    \n",
    "    This is required for when we are trying to create a large and complex application. Although it can be useful there if we need some attribute for calculation and we don’t user to access them.\n",
    "\n",
    "    For crating private attribute we need to put double underscore after ‘self.’, and this way we can define private attribute. Private attribute cannot be called directly as we called other normal attributes"
   ]
  },
  {
   "cell_type": "code",
   "execution_count": null,
   "id": "f447ff11",
   "metadata": {},
   "outputs": [],
   "source": []
  }
 ],
 "metadata": {
  "kernelspec": {
   "display_name": "Python 3",
   "language": "python",
   "name": "python3"
  },
  "language_info": {
   "codemirror_mode": {
    "name": "ipython",
    "version": 3
   },
   "file_extension": ".py",
   "mimetype": "text/x-python",
   "name": "python",
   "nbconvert_exporter": "python",
   "pygments_lexer": "ipython3",
   "version": "3.8.8"
  }
 },
 "nbformat": 4,
 "nbformat_minor": 5
}
