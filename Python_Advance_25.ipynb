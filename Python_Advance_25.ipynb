{
 "cells": [
  {
   "cell_type": "markdown",
   "id": "d5307d08",
   "metadata": {},
   "source": [
    "### Q1. What is the distinction between a numpy array and a pandas data frame? Is there a way to convert between the two if there is?"
   ]
  },
  {
   "cell_type": "markdown",
   "id": "13a44159",
   "metadata": {},
   "source": [
    "    Numpy array:\n",
    "\n",
    "    This is in the form of matrix structure which have rows and columns. It generally performs python mathematical operation which is not genrally easy manually to perfomr in coding case. It may be of any dimensions like 1-d, 2-d, 3-d, 4-d, etc depend upon the use to requirement. Unlike dataframe, numpy array are not in a tabular form which ahve records and have fields instead it is in the form of matrices. It can have single row and single column as well but dataframe poses more than one column\n",
    "\n",
    "    DataFrame:\n",
    "\n",
    "    This is a kind of tabular structure format which are having more than one column. Unlike numpy array which can have more single as well as many number of columns, but dataframe have more than one column. Dataframe can have any number of dimensons but it should be more than one. We can use numpy array operation in dataframe and can also convert the numpy array into dataframe\n",
    "\n",
    "    We can convert between the two in following manner:"
   ]
  },
  {
   "cell_type": "markdown",
   "id": "cacc0a7f",
   "metadata": {},
   "source": [
    "### Q3. Identify some of the plotting techniques that are used to produce a stock-market chart."
   ]
  },
  {
   "cell_type": "markdown",
   "id": "b1b9edbe",
   "metadata": {},
   "source": [
    "    These are some pot that are used to produce stock-market chart\n",
    "\n",
    "    Line Chart.\n",
    "    Point Chart.\n",
    "    Candlestick Chart.\n",
    "    Bar Chart."
   ]
  },
  {
   "cell_type": "markdown",
   "id": "e015e12c",
   "metadata": {},
   "source": [
    "### Q4. Why is it essential to print a legend on a stock market chart?"
   ]
  },
  {
   "cell_type": "markdown",
   "id": "73bc3e85",
   "metadata": {},
   "source": [
    "    Legends adds a beauty to visualize the trend of data w.r.t. different features. It creates the different trend in different colors indicating that which is belong to which trend is belong to which feature"
   ]
  },
  {
   "cell_type": "markdown",
   "id": "f821f30b",
   "metadata": {},
   "source": [
    "### Q5. What is the best way to limit the length of a pandas data frame to less than a year?"
   ]
  },
  {
   "cell_type": "markdown",
   "id": "b2ad68d0",
   "metadata": {},
   "source": [
    "    We can use start and end parameters for that. In start we write the date from where we are starting and at the end we write the end date. SO within this span we can restric the duration. Also we can use the parameters like periods for how much times we need the duration and we can also use the frequency parameter."
   ]
  },
  {
   "cell_type": "markdown",
   "id": "94652885",
   "metadata": {},
   "source": [
    "### Q6. What is the definition of a 180-day moving average?"
   ]
  },
  {
   "cell_type": "markdown",
   "id": "597c6ca5",
   "metadata": {},
   "source": [
    "    Moving Averages help to filter out market noise and smooth out fluctuations in price. In statistics, a moving average is a calculation used to analyze data points by creating a series of averages of different subsets of the full data set.\n",
    "\n",
    "    180-day moving average means A simple moving average (SMA) is a arithmetic mean of a given set of prices over the 180 days in the past"
   ]
  },
  {
   "cell_type": "code",
   "execution_count": null,
   "id": "bf536e27",
   "metadata": {},
   "outputs": [],
   "source": []
  }
 ],
 "metadata": {
  "kernelspec": {
   "display_name": "Python 3",
   "language": "python",
   "name": "python3"
  },
  "language_info": {
   "codemirror_mode": {
    "name": "ipython",
    "version": 3
   },
   "file_extension": ".py",
   "mimetype": "text/x-python",
   "name": "python",
   "nbconvert_exporter": "python",
   "pygments_lexer": "ipython3",
   "version": "3.8.8"
  }
 },
 "nbformat": 4,
 "nbformat_minor": 5
}
